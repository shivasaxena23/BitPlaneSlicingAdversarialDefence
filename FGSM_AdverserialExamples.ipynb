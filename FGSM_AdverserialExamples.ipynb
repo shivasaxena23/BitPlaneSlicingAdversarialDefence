{
  "nbformat": 4,
  "nbformat_minor": 0,
  "metadata": {
    "colab": {
      "name": "FGSM_AdverserialExamples.ipynb",
      "version": "0.3.2",
      "provenance": [],
      "collapsed_sections": [],
      "include_colab_link": true
    },
    "kernelspec": {
      "name": "python3",
      "display_name": "Python 3"
    },
    "accelerator": "GPU"
  },
  "cells": [
    {
      "cell_type": "markdown",
      "metadata": {
        "id": "view-in-github",
        "colab_type": "text"
      },
      "source": [
        "<a href=\"https://colab.research.google.com/github/rohan-pradhan/BitPlaneSlicingAdversarialDefense/blob/master/FGSM_AdverserialExamples.ipynb\" target=\"_parent\"><img src=\"https://colab.research.google.com/assets/colab-badge.svg\" alt=\"Open In Colab\"/></a>"
      ]
    },
    {
      "metadata": {
        "id": "7yOknxTsxtAp",
        "colab_type": "code",
        "outputId": "8afff7c8-7ac9-47c5-b93f-ea1bba2f74ba",
        "colab": {
          "base_uri": "https://localhost:8080/",
          "height": 35
        }
      },
      "cell_type": "code",
      "source": [
        "!pip install -qq -e git+http://github.com/tensorflow/cleverhans.git#egg=cleverhans\n",
        "import sys\n",
        "sys.path.append('/content/src/cleverhans')\n",
        "import cleverhans"
      ],
      "execution_count": 0,
      "outputs": [
        {
          "output_type": "stream",
          "text": [
            "\u001b[?25l\r\u001b[K    20% |██████▍                         | 10kB 19.5MB/s eta 0:00:01\r\u001b[K    40% |████████████▉                   | 20kB 2.2MB/s eta 0:00:01\r\u001b[K    60% |███████████████████▏            | 30kB 3.2MB/s eta 0:00:01\r\u001b[K    80% |█████████████████████████▋      | 40kB 2.1MB/s eta 0:00:01\r\u001b[K    100% |████████████████████████████████| 51kB 2.5MB/s \n",
            "\u001b[?25h"
          ],
          "name": "stdout"
        }
      ]
    },
    {
      "metadata": {
        "id": "wud2HUdIcdqb",
        "colab_type": "code",
        "outputId": "c3f279d3-b64c-4b43-e182-bda63e6199bf",
        "colab": {
          "base_uri": "https://localhost:8080/",
          "height": 138
        }
      },
      "cell_type": "code",
      "source": [
        "from __future__ import absolute_import\n",
        "from __future__ import division\n",
        "from __future__ import print_function\n",
        "from __future__ import unicode_literals\n",
        "\n",
        "import numpy as np\n",
        "import cv2\n",
        "import glob\n",
        "import matplotlib.pyplot as plt\n",
        "\n",
        "import os\n",
        "import time\n",
        "import re\n",
        "\n",
        "import tensorflow as tf\n",
        "from tensorflow.python.platform import flags\n",
        "import numpy as np\n",
        "from tensorflow import keras\n",
        "# import keras\n",
        "# from tensorflow.keras import backend\n",
        "import pandas as pd \n",
        "\n",
        "from cleverhans.attacks import FastGradientMethod\n",
        "from cleverhans.dataset import MNIST\n",
        "from cleverhans.loss import CrossEntropy\n",
        "from cleverhans.train import train\n",
        "from cleverhans.utils import AccuracyReport\n",
        "from cleverhans.utils_keras import cnn_model\n",
        "from cleverhans.utils_keras import KerasModelWrapper\n",
        "from cleverhans.utils_tf import model_eval\n",
        "import matplotlib.pyplot as plt\n",
        "from sklearn.metrics import accuracy_score\n",
        "\n",
        "from cleverhans.attacks import CarliniWagnerL2\n",
        "from cleverhans.attacks import FastGradientMethod \n",
        "\n",
        "import glob\n",
        "FLAGS = flags.FLAGS\n",
        "\n",
        "NB_EPOCHS = 6\n",
        "BATCH_SIZE = 128\n",
        "LEARNING_RATE = .001\n",
        "TRAIN_DIR = 'train_dir'\n",
        "FILENAME = 'mnist.ckpt'\n",
        "LOAD_MODEL = False\n",
        "\n"
      ],
      "execution_count": 0,
      "outputs": [
        {
          "output_type": "stream",
          "text": [
            "\n",
            "WARNING: The TensorFlow contrib module will not be included in TensorFlow 2.0.\n",
            "For more information, please see:\n",
            "  * https://github.com/tensorflow/community/blob/master/rfcs/20180907-contrib-sunset.md\n",
            "  * https://github.com/tensorflow/addons\n",
            "If you depend on functionality not listed there, please file an issue.\n",
            "\n"
          ],
          "name": "stdout"
        }
      ]
    },
    {
      "metadata": {
        "id": "FN34FipWxGa3",
        "colab_type": "code",
        "outputId": "3415aeca-522b-4048-999c-96bc7770e213",
        "colab": {
          "base_uri": "https://localhost:8080/",
          "height": 124
        }
      },
      "cell_type": "code",
      "source": [
        "from google.colab import drive\n",
        "drive.mount('/content/drive')"
      ],
      "execution_count": 0,
      "outputs": [
        {
          "output_type": "stream",
          "text": [
            "Go to this URL in a browser: https://accounts.google.com/o/oauth2/auth?client_id=947318989803-6bn6qk8qdgf4n4g3pfee6491hc0brc4i.apps.googleusercontent.com&redirect_uri=urn%3Aietf%3Awg%3Aoauth%3A2.0%3Aoob&scope=email%20https%3A%2F%2Fwww.googleapis.com%2Fauth%2Fdocs.test%20https%3A%2F%2Fwww.googleapis.com%2Fauth%2Fdrive%20https%3A%2F%2Fwww.googleapis.com%2Fauth%2Fdrive.photos.readonly%20https%3A%2F%2Fwww.googleapis.com%2Fauth%2Fpeopleapi.readonly&response_type=code\n",
            "\n",
            "Enter your authorization code:\n",
            "··········\n",
            "Mounted at /content/drive\n"
          ],
          "name": "stdout"
        }
      ]
    },
    {
      "metadata": {
        "id": "TyHWWTSxx4DM",
        "colab_type": "code",
        "outputId": "2013e698-4b0c-4133-b5d0-c4e790aaf19e",
        "colab": {
          "base_uri": "https://localhost:8080/",
          "height": 69
        }
      },
      "cell_type": "code",
      "source": [
        "!ls /content/drive/My\\ Drive/ECE1512-FinalProject/saved_models\n",
        "!ls $pwd\n",
        "!ls ./drive/My\\ Drive/ECE1512-FinalProject/saved_models\n",
        "\n",
        "# mkdir saved_models"
      ],
      "execution_count": 0,
      "outputs": [
        {
          "output_type": "stream",
          "text": [
            "keras_cifar10_trained_model_nonsliced.h5\n",
            "ls: cannot access '[/content]': No such file or directory\n",
            "keras_cifar10_trained_model_nonsliced.h5\n"
          ],
          "name": "stdout"
        }
      ]
    },
    {
      "metadata": {
        "id": "y49qrN6Ecdqg",
        "colab_type": "code",
        "outputId": "35daa4ab-ae07-4a3e-bc97-8b73f50cb991",
        "colab": {
          "base_uri": "https://localhost:8080/",
          "height": 193
        }
      },
      "cell_type": "code",
      "source": [
        "pwd = !pwd\n",
        "saved_models_directory = \"./drive/My\\ Drive/ECE1512-FinalProject/saved_models\"\n",
        "classifier_file_name = \"keras_cifar10_trained_model_nonsliced.h5\"\n",
        "# model_path = os.path.join(pwd, saved_models_directory)\n",
        "# model_path = os.path.join(model_path, classifier_file_name)\n",
        "# print(model_path)\n",
        "\n",
        "classifier = tf.keras.models.load_model(\"keras_cifar10_trained_model_nonsliced.h5\")\n",
        "import random\n",
        "random.seed = 99"
      ],
      "execution_count": 0,
      "outputs": [
        {
          "output_type": "stream",
          "text": [
            "WARNING:tensorflow:From /usr/local/lib/python3.6/dist-packages/tensorflow/python/ops/resource_variable_ops.py:435: colocate_with (from tensorflow.python.framework.ops) is deprecated and will be removed in a future version.\n",
            "Instructions for updating:\n",
            "Colocations handled automatically by placer.\n",
            "WARNING:tensorflow:From /usr/local/lib/python3.6/dist-packages/tensorflow/python/keras/layers/core.py:143: calling dropout (from tensorflow.python.ops.nn_ops) with keep_prob is deprecated and will be removed in a future version.\n",
            "Instructions for updating:\n",
            "Please use `rate` instead of `keep_prob`. Rate should be set to `rate = 1 - keep_prob`.\n",
            "WARNING:tensorflow:From /usr/local/lib/python3.6/dist-packages/tensorflow/python/ops/math_ops.py:3066: to_int32 (from tensorflow.python.ops.math_ops) is deprecated and will be removed in a future version.\n",
            "Instructions for updating:\n",
            "Use tf.cast instead.\n"
          ],
          "name": "stdout"
        }
      ]
    },
    {
      "metadata": {
        "id": "a04Vj5o0cdqi",
        "colab_type": "code",
        "colab": {}
      },
      "cell_type": "code",
      "source": [
        "# # Args\n",
        "# FLAGS = flags.FLAGS\n",
        "\n",
        "# VIZ_ENABLED = True\n",
        "# BATCH_SIZE = 128\n",
        "# NB_EPOCHS = 6\n",
        "# SOURCE_SAMPLES = 10\n",
        "# LEARNING_RATE = .001\n",
        "# CW_LEARNING_RATE = .005\n",
        "# ATTACK_ITERATIONS = 100\n",
        "# MODEL_PATH = ''\n",
        "# TARGETED = False"
      ],
      "execution_count": 0,
      "outputs": []
    },
    {
      "metadata": {
        "id": "dtC2ioFyJk2t",
        "colab_type": "code",
        "outputId": "4d37f4b2-71f8-455b-d666-2cb9e6ed7536",
        "colab": {
          "base_uri": "https://localhost:8080/",
          "height": 104
        }
      },
      "cell_type": "code",
      "source": [
        "from keras.datasets import cifar10\n",
        "(x_train, y_train), (x_test, y_test) = cifar10.load_data()\n",
        "x_train = x_train.astype('float32')\n",
        "x_test = x_test.astype('float32')\n",
        "x_train /= 255\n",
        "x_test /= 255\n",
        "\n",
        "print (x_test.shape[1:4])\n",
        "print (type(x_test))\n"
      ],
      "execution_count": 0,
      "outputs": [
        {
          "output_type": "stream",
          "text": [
            "Using TensorFlow backend.\n"
          ],
          "name": "stderr"
        },
        {
          "output_type": "stream",
          "text": [
            "Downloading data from https://www.cs.toronto.edu/~kriz/cifar-10-python.tar.gz\n",
            "170500096/170498071 [==============================] - 24s 0us/step\n",
            "(32, 32, 3)\n",
            "<class 'numpy.ndarray'>\n"
          ],
          "name": "stdout"
        }
      ]
    },
    {
      "metadata": {
        "id": "qm2QUqwJcdql",
        "colab_type": "code",
        "colab": {}
      },
      "cell_type": "code",
      "source": [
        "def fgsm_attack(src,folder_num, eps):\n",
        "    \"\"\"\n",
        "    MNIST CleverHans tutorial\n",
        "    :param train_start: index of first training set example\n",
        "    :param train_end: index of last training set example\n",
        "    :param test_start: index of first test set example\n",
        "    :param test_end: index of last test set example\n",
        "    :param nb_epochs: number of epochs to train model\n",
        "    :param batch_size: size of training batches\n",
        "    :param learning_rate: learning rate for training\n",
        "    :param train_dir: Directory storing the saved model\n",
        "    :param filename: Filename to save model under\n",
        "    :param load_model: True for load, False for not load\n",
        "    :param testing: if true, test error is calculated\n",
        "    :param label_smoothing: float, amount of label smoothing for cross entropy\n",
        "    :return: an AccuracyReport object\n",
        "    \"\"\"\n",
        "    tf.keras.backend.set_learning_phase(0)\n",
        "\n",
        "\n",
        "    # Set TF random seed to improve reproducibility\n",
        "    tf.set_random_seed(1234)\n",
        "\n",
        "#     if not hasattr(backend, \"tf\"):\n",
        "#         raise RuntimeError(\"This tutorial requires keras to be configured\"\n",
        "#                            \" to use the TensorFlow backend.\")\n",
        "\n",
        "#     if keras.backend.image_dim_ordering() != 'tf':\n",
        "#         keras.backend.set_image_dim_ordering('tf')\n",
        "#         print(\"INFO: '~/.keras/keras.json' sets 'image_dim_ordering' to \"\n",
        "#               \"'th', temporarily setting to 'tf'\")\n",
        "\n",
        "#     img_folder = src+'/*/*.jpg'\n",
        "    \n",
        "#     dest_folder = 'CW_Phase'+str(folder_num)+'CW_LR'+str(CW_LEARNING_RATE)    \n",
        "#     if not os.path.exists(dest_folder):\n",
        "#         os.makedirs(dest_folder)\n",
        "#     m = dest_folder + '/Male'\n",
        "#     f = dest_folder + '/Female'\n",
        "#     if not os.path.exists(m):\n",
        "#         os.makedirs(m)\n",
        "#     if not os.path.exists(f):\n",
        "#         os.makedirs(f)\n",
        "    \n",
        "        \n",
        "#     dest_folder = dest_folder\n",
        "    \n",
        "\n",
        "#     x_celeba = np.array(x_test)\n",
        "    # Obtain Image Parameters\n",
        "\n",
        "    #ADD RIGHT DATA \n",
        "    img_rows, img_cols, nchannels = x_test.shape[1:4]\n",
        "\n",
        "    #MALE OR FEMALE \n",
        "    nb_classes = 10\n",
        "\n",
        "    # Define input TF placeholder\n",
        "    x = tf.placeholder(tf.float32, shape=(None, img_rows, img_cols,\n",
        "                                        nchannels))\n",
        "    y = tf.placeholder(tf.float32, shape=(None, nb_classes))\n",
        "\n",
        "\n",
        "    keras_wrapped_model = KerasModelWrapper(classifier)\n",
        "    \n",
        "    \n",
        "\n",
        "    # get session from the model\n",
        "    sess =keras.backend.get_session()\n",
        "    # create attack object\n",
        "    adv_ys = None\n",
        "#     yname = \"y\"\n",
        "#     VIZ_ENABLED = True\n",
        "#     BATCH_SIZE = 128\n",
        "#     NB_EPOCHS = 6\n",
        "#     SOURCE_SAMPLES = 10\n",
        "#     LEARNING_RATE = .001\n",
        "#     ATTACK_ITERATIONS = attack_iterations\n",
        "\n",
        "#     cw = CarliniWagnerL2(keras_wrapped_model, sess=sess)\n",
        "\n",
        "#     cw_params = {'binary_search_steps': 1,\n",
        "#                yname: adv_ys,\n",
        "#                'max_iterations': ATTACK_ITERATIONS,\n",
        "#                'learning_rate': CW_LEARNING_RATE,\n",
        "#                'batch_size': 10,\n",
        "#                'initial_const': 10}\n",
        "    \n",
        "    fgsm = FastGradientMethod(keras_wrapped_model, sess=sess)\n",
        "    \n",
        "    fgsm_params = {'eps': eps,\n",
        "                 'clip_min': 0.,\n",
        "                 'clip_max': 1.}\n",
        "\n",
        "    adv_x = fgsm.generate_np(x_test,**fgsm_params)\n",
        "\n",
        "\n",
        "    # Consider the attack to be constant\n",
        "    adv_x = tf.stop_gradient(adv_x) \n",
        "    attack_images = adv_x.eval(session =sess)\n",
        "#     y = np.concatenate([np.ones(50),np.zeros(50)])\n",
        "\n",
        "    \n",
        "    adv_pred = classifier.predict_classes(attack_images)\n",
        "    # accuracy score\n",
        "    \n",
        "    acc = accuracy_score(y_test, adv_pred)\n",
        "    adv_prob = classifier.predict_proba(attack_images)\n",
        "#     probcsv = dest_folder + '/Pred_prob.csv' \n",
        "    \n",
        "    \n",
        "#     df = pd.DataFrame(adv_prob)\n",
        "#     df = pd.concat([pd.Series(addrs),df],axis=1)\n",
        "#     df.to_csv(probcsv)\n",
        "    \n",
        "#     reg = src\n",
        "    \n",
        "#     adv_addrs = [re.sub(reg,dest_folder,x) for x in addrs]\n",
        "  \n",
        "    file_string = \"attack_images_np_\" + str(folder_num) +\".npy\"\n",
        "    \n",
        "    np.save(file_string, attack_images)\n",
        "    \n",
        "#     for i, a in enumerate(attack_images):\n",
        "#         plt.imsave(adv_addrs[i],a)\n",
        "\n",
        "\n",
        "    return(acc)\n"
      ],
      "execution_count": 0,
      "outputs": []
    },
    {
      "metadata": {
        "id": "MN8sC9yCcdqn",
        "colab_type": "code",
        "outputId": "d86c6050-ed93-41e2-e761-0534050d9f49",
        "colab": {
          "base_uri": "https://localhost:8080/",
          "height": 504
        }
      },
      "cell_type": "code",
      "source": [
        "img_folder = \"da\"\n",
        "eps_list = [0.005, 0.009, 0.02, 0.04, 0.07]\n",
        "acc_list = []\n",
        "\n",
        "for count, value in enumerate(eps_list):\n",
        "  print (\"Attacking model with FGSM attack with \", value, \" epsilon.\")\n",
        "  acc = fgsm_attack(img_folder,count+1, value)\n",
        "  acc_list.append(acc)\n",
        "  print (acc)"
      ],
      "execution_count": 0,
      "outputs": [
        {
          "output_type": "stream",
          "text": [
            "/content/src/cleverhans/cleverhans/attacks_tf.py:27: UserWarning: attacks_tf is deprecated and will be removed on 2019-07-18 or after. Code should import functions from their new locations directly.\n",
            "  warnings.warn(\"attacks_tf is deprecated and will be removed on 2019-07-18\"\n",
            "[INFO 2019-03-25 13:53:57,613 cleverhans] Constructing new graph for attack FastGradientMethod\n"
          ],
          "name": "stderr"
        },
        {
          "output_type": "stream",
          "text": [
            "Attacking model with FGSM attack with  0.005  epsilon.\n",
            "WARNING:tensorflow:From /content/src/cleverhans/cleverhans/attacks/attack.py:280: to_float (from tensorflow.python.ops.math_ops) is deprecated and will be removed in a future version.\n",
            "Instructions for updating:\n",
            "Use tf.cast instead.\n",
            "WARNING:tensorflow:From /content/src/cleverhans/cleverhans/compat.py:80: calling softmax_cross_entropy_with_logits_v2_helper (from tensorflow.python.ops.nn_ops) with dim is deprecated and will be removed in a future version.\n",
            "Instructions for updating:\n",
            "dim is deprecated, use axis instead\n"
          ],
          "name": "stdout"
        },
        {
          "output_type": "stream",
          "text": [
            "/content/src/cleverhans/cleverhans/compat.py:23: UserWarning: <function reduce_max_v1 at 0x7f131498c840> is deprecated. Switch to calling the equivalent function in tensorflow.  This function was originally needed as a compatibility layer for old versions of tensorflow,  but support for those versions has now been dropped.\n",
            "  warnings.warn(str(f) + \" is deprecated. Switch to calling the equivalent function in tensorflow. \"\n",
            "/content/src/cleverhans/cleverhans/compat.py:23: UserWarning: <function reduce_sum_v1 at 0x7f1314987b70> is deprecated. Switch to calling the equivalent function in tensorflow.  This function was originally needed as a compatibility layer for old versions of tensorflow,  but support for those versions has now been dropped.\n",
            "  warnings.warn(str(f) + \" is deprecated. Switch to calling the equivalent function in tensorflow. \"\n",
            "[INFO 2019-03-25 13:54:08,917 cleverhans] Constructing new graph for attack FastGradientMethod\n"
          ],
          "name": "stderr"
        },
        {
          "output_type": "stream",
          "text": [
            "0.539\n",
            "Attacking model with FGSM attack with  0.009  epsilon.\n"
          ],
          "name": "stdout"
        },
        {
          "output_type": "stream",
          "text": [
            "[INFO 2019-03-25 13:54:13,296 cleverhans] Constructing new graph for attack FastGradientMethod\n"
          ],
          "name": "stderr"
        },
        {
          "output_type": "stream",
          "text": [
            "0.3957\n",
            "Attacking model with FGSM attack with  0.02  epsilon.\n"
          ],
          "name": "stdout"
        },
        {
          "output_type": "stream",
          "text": [
            "[INFO 2019-03-25 13:54:17,660 cleverhans] Constructing new graph for attack FastGradientMethod\n"
          ],
          "name": "stderr"
        },
        {
          "output_type": "stream",
          "text": [
            "0.2339\n",
            "Attacking model with FGSM attack with  0.04  epsilon.\n"
          ],
          "name": "stdout"
        },
        {
          "output_type": "stream",
          "text": [
            "[INFO 2019-03-25 13:54:21,952 cleverhans] Constructing new graph for attack FastGradientMethod\n"
          ],
          "name": "stderr"
        },
        {
          "output_type": "stream",
          "text": [
            "0.1665\n",
            "Attacking model with FGSM attack with  0.07  epsilon.\n",
            "0.1392\n"
          ],
          "name": "stdout"
        }
      ]
    },
    {
      "metadata": {
        "id": "clffvUDqcdq2",
        "colab_type": "code",
        "colab": {}
      },
      "cell_type": "code",
      "source": [
        "# acc = cw_attack(100,im g_folder,0.07,1)\n",
        "adv_img = np.load(\"attack_images_np_5.npy\")"
      ],
      "execution_count": 0,
      "outputs": []
    },
    {
      "metadata": {
        "id": "kZZ5ukaN6HbN",
        "colab_type": "code",
        "outputId": "f9bbef7a-6b2f-4006-abaa-96c6d8c76c3e",
        "colab": {
          "base_uri": "https://localhost:8080/",
          "height": 382
        }
      },
      "cell_type": "code",
      "source": [
        "import cv2 \n",
        "print (acc)\n",
        "adv_img.shape\n",
        "import matplotlib.pyplot as plt\n",
        "import matplotlib.image as mpimg\n",
        "\n",
        "# norm_image = cv2.normalize(adv_img[3], None, alpha = 0, beta = 255, norm_type = cv2.NORM_MINMAX, dtype = cv2.CV_32F)\n",
        "\n",
        "\n",
        "plt.imshow(adv_img[5])\n"
      ],
      "execution_count": 0,
      "outputs": [
        {
          "output_type": "stream",
          "text": [
            "0.1392\n"
          ],
          "name": "stdout"
        },
        {
          "output_type": "execute_result",
          "data": {
            "text/plain": [
              "<matplotlib.image.AxesImage at 0x7f12eb92aa58>"
            ]
          },
          "metadata": {
            "tags": []
          },
          "execution_count": 9
        },
        {
          "output_type": "display_data",
          "data": {
            "image/png": "[encoded data removed]",
            "text/plain": [
              "<Figure size 576x396 with 1 Axes>"
            ]
          },
          "metadata": {
            "tags": []
          }
        }
      ]
    },
    {
      "metadata": {
        "id": "coieHbARCJz8",
        "colab_type": "code",
        "outputId": "c5e5c937-d835-46a5-ccab-487d1c813c30",
        "colab": {
          "base_uri": "https://localhost:8080/",
          "height": 365
        }
      },
      "cell_type": "code",
      "source": [
        "plt.imshow(x_test[5])"
      ],
      "execution_count": 0,
      "outputs": [
        {
          "output_type": "execute_result",
          "data": {
            "text/plain": [
              "<matplotlib.image.AxesImage at 0x7f12e98bcba8>"
            ]
          },
          "metadata": {
            "tags": []
          },
          "execution_count": 10
        },
        {
          "output_type": "display_data",
          "data": {
            "image/png": "[encoded data removed]",
            "text/plain": [
              "<Figure size 576x396 with 1 Axes>"
            ]
          },
          "metadata": {
            "tags": []
          }
        }
      ]
    },
    {
      "metadata": {
        "id": "5EHYClFaZ1aT",
        "colab_type": "code",
        "outputId": "f81ee7b7-2443-4cc5-854c-f7d4b95be601",
        "colab": {
          "base_uri": "https://localhost:8080/",
          "height": 365
        }
      },
      "cell_type": "code",
      "source": [
        "import cv2 \n",
        "print (acc)\n",
        "adv_img.shape\n",
        "import matplotlib.pyplot as plt\n",
        "import matplotlib.image as mpimg\n",
        "\n",
        "\n",
        "adv_img = np.load(\"attack_images_np.npy\")\n",
        "img = adv_img[5]\n",
        "hist,bins = np.histogram(img.flatten(),256,[0,256])\n",
        "cdf = hist.cumsum()\n",
        "cdf_normalized = cdf * hist.max()/ cdf.max()\n",
        "plt.plot(cdf_normalized, color = 'b')\n",
        "plt.hist(img.flatten(),256,[0,256], color = 'r')\n",
        "plt.xlim([0,256])\n",
        "plt.legend(('cdf','histogram'), loc = 'upper left')\n",
        "plt.show()"
      ],
      "execution_count": 0,
      "outputs": [
        {
          "output_type": "stream",
          "text": [
            "0.1067\n"
          ],
          "name": "stdout"
        },
        {
          "output_type": "display_data",
          "data": {
            "image/png": "[encoded data removed]",
            "text/plain": [
              "<Figure size 576x396 with 1 Axes>"
            ]
          },
          "metadata": {
            "tags": []
          }
        }
      ]
    },
    {
      "metadata": {
        "id": "6WkbfxVV1T2T",
        "colab_type": "code",
        "outputId": "60e836bd-6511-4578-acdc-a601d9f8bde3",
        "colab": {
          "base_uri": "https://localhost:8080/",
          "height": 35
        }
      },
      "cell_type": "code",
      "source": [
        "folder_num = 1\n",
        "file_string = \"attack_images_np_\" + str(folder_num) +\".npy\"\n",
        "print (file_string)"
      ],
      "execution_count": 0,
      "outputs": [
        {
          "output_type": "stream",
          "text": [
            "attack_images_np_1.npy\n"
          ],
          "name": "stdout"
        }
      ]
    }
  ]
}