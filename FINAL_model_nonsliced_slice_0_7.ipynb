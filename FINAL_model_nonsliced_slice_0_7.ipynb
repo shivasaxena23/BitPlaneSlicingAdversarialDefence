{
  "nbformat": 4,
  "nbformat_minor": 0,
  "metadata": {
    "colab": {
      "name": "FINAL-model_nonsliced_slice_0-7.ipynb",
      "version": "0.3.2",
      "provenance": [],
      "collapsed_sections": [],
      "toc_visible": true,
      "include_colab_link": true
    },
    "kernelspec": {
      "name": "python3",
      "display_name": "Python 3"
    },
    "accelerator": "GPU"
  },
  "cells": [
    {
      "cell_type": "markdown",
      "metadata": {
        "id": "view-in-github",
        "colab_type": "text"
      },
      "source": [
        "<a href=\"https://colab.research.google.com/github/rohan-pradhan/BitPlaneSlicingAdversarialDefense/blob/master/FINAL_model_nonsliced_slice_0_7.ipynb\" target=\"_parent\"><img src=\"https://colab.research.google.com/assets/colab-badge.svg\" alt=\"Open In Colab\"/></a>"
      ]
    },
    {
      "metadata": {
        "id": "6h22ypq2xcKU",
        "colab_type": "code",
        "outputId": "9d1d55ee-e3dd-4e62-83ee-5760f80786e2",
        "colab": {
          "base_uri": "https://localhost:8080/",
          "height": 35
        }
      },
      "cell_type": "code",
      "source": [
        "!pip install -qq -e git+http://github.com/tensorflow/cleverhans.git#egg=cleverhans\n",
        "import sys\n",
        "sys.path.append('/content/src/cleverhans')\n",
        "import cleverhans"
      ],
      "execution_count": 0,
      "outputs": [
        {
          "output_type": "stream",
          "text": [
            "\u001b[?25l\r\u001b[K    20% |██████▍                         | 10kB 26.1MB/s eta 0:00:01\r\u001b[K    40% |████████████▉                   | 20kB 4.2MB/s eta 0:00:01\r\u001b[K    60% |███████████████████▏            | 30kB 6.0MB/s eta 0:00:01\r\u001b[K    80% |█████████████████████████▋      | 40kB 4.1MB/s eta 0:00:01\r\u001b[K    100% |████████████████████████████████| 51kB 4.6MB/s \n",
            "\u001b[?25h"
          ],
          "name": "stdout"
        }
      ]
    },
    {
      "metadata": {
        "id": "HFgQsYNEVXFq",
        "colab_type": "code",
        "outputId": "65cf0760-466a-40a9-9540-4820fc2de04d",
        "colab": {
          "base_uri": "https://localhost:8080/",
          "height": 55
        }
      },
      "cell_type": "code",
      "source": [
        "from __future__ import print_function\n",
        "import keras\n",
        "from keras.datasets import cifar10\n",
        "from keras.preprocessing.image import ImageDataGenerator\n",
        "from tensorflow.keras.models import Sequential\n",
        "from tensorflow.keras.layers import Dense, Dropout, Activation, Flatten\n",
        "from tensorflow.keras.layers import Conv2D, MaxPooling2D\n",
        "import tensorflow as tf\n",
        "import os\n",
        "import numpy as np\n",
        "from google.colab import drive\n",
        "drive.mount('/content/drive')\n"
      ],
      "execution_count": 0,
      "outputs": [
        {
          "output_type": "stream",
          "text": [
            "Drive already mounted at /content/drive; to attempt to forcibly remount, call drive.mount(\"/content/drive\", force_remount=True).\n"
          ],
          "name": "stdout"
        }
      ]
    },
    {
      "metadata": {
        "id": "98Amb6j2sL7E",
        "colab_type": "text"
      },
      "cell_type": "markdown",
      "source": [
        "# Importing Data"
      ]
    },
    {
      "metadata": {
        "id": "g_RL-bAsWSj5",
        "colab_type": "code",
        "outputId": "1c00a577-4051-4a61-80d8-65c2a9ff24e8",
        "colab": {
          "base_uri": "https://localhost:8080/",
          "height": 86
        }
      },
      "cell_type": "code",
      "source": [
        "batch_size = 32\n",
        "num_classes = 10\n",
        "epochs = 100\n",
        "data_augmentation = False\n",
        "num_predictions = 20\n",
        "save_dir = \"/content/drive/My Drive/ECE1512-FinalProject/saved_models\"\n",
        "full_file = save_dir+\"/test.txt\"\n",
        "    \n",
        "print (save_dir)\n",
        "model_name = 'keras_cifar10_trained_model_nonsliced.h5'\n",
        "\n",
        "# The data, split between train and test sets:\n",
        "(x_train, y_train), (x_test, y_test) = cifar10.load_data()\n",
        "print('x_train shape:', x_train.shape)\n",
        "print(x_train.shape[0], 'train samples')\n",
        "print(x_test.shape[0], 'test samples')\n",
        "\n",
        "# Convert class vectors to binary class matrices.\n",
        "y_train = keras.utils.to_categorical(y_train, num_classes)\n",
        "y_test = keras.utils.to_categorical(y_test, num_classes)\n",
        "\n",
        "\n"
      ],
      "execution_count": 0,
      "outputs": [
        {
          "output_type": "stream",
          "text": [
            "/content/drive/My Drive/ECE1512-FinalProject/saved_models\n",
            "x_train shape: (50000, 32, 32, 3)\n",
            "50000 train samples\n",
            "10000 test samples\n"
          ],
          "name": "stdout"
        }
      ]
    },
    {
      "metadata": {
        "id": "tSBRo9HUsPoi",
        "colab_type": "text"
      },
      "cell_type": "markdown",
      "source": [
        "# Model\n"
      ]
    },
    {
      "metadata": {
        "id": "xxv1NgY1WW6i",
        "colab_type": "code",
        "colab": {}
      },
      "cell_type": "code",
      "source": [
        "model = Sequential()\n",
        "model.add(Conv2D(32, (3, 3), padding='same',\n",
        "                 input_shape=x_train.shape[1:]))\n",
        "model.add(Activation('relu'))\n",
        "model.add(Conv2D(32, (3, 3)))\n",
        "model.add(Activation('relu'))\n",
        "model.add(MaxPooling2D(pool_size=(2, 2)))\n",
        "model.add(Dropout(0.25))\n",
        "\n",
        "model.add(Conv2D(64, (3, 3), padding='same'))\n",
        "model.add(Activation('relu'))\n",
        "model.add(Conv2D(64, (3, 3)))\n",
        "model.add(Activation('relu'))\n",
        "model.add(MaxPooling2D(pool_size=(2, 2)))\n",
        "model.add(Dropout(0.25))\n",
        "\n",
        "model.add(Flatten())\n",
        "model.add(Dense(512))\n",
        "model.add(Activation('relu'))\n",
        "model.add(Dropout(0.5))\n",
        "model.add(Dense(num_classes))\n",
        "model.add(Activation('softmax'))\n",
        "\n",
        "# initiate RMSprop optimizer\n",
        "opt = tf.keras.optimizers.RMSprop(lr=0.0001, decay=1e-6)\n",
        "\n",
        "# Let's train the model using RMSprop\n",
        "model.compile(loss='categorical_crossentropy',\n",
        "              optimizer=opt,\n",
        "              metrics=['accuracy'])\n",
        "\n"
      ],
      "execution_count": 0,
      "outputs": []
    },
    {
      "metadata": {
        "id": "APN9iVjgsU8L",
        "colab_type": "text"
      },
      "cell_type": "markdown",
      "source": [
        "# Bit Plane Slicing Pre Processor"
      ]
    },
    {
      "metadata": {
        "id": "Ex6VPJZOVkXi",
        "colab_type": "code",
        "colab": {}
      },
      "cell_type": "code",
      "source": [
        "\n",
        "def slice(x,b):\n",
        "  slice = 255<<(b)\n",
        "  i = np.full(x.shape, slice)\n",
        "  #print(t.shape,i.shape)\n",
        "  t = x&i\n",
        "  print(np.unique(t))\n",
        "  print(t.shape)\n",
        "  return t\n",
        "\n",
        "# x_test = slice(x_test)\n",
        "# x_test = x_test.astype('float32')\n",
        "\n",
        "# x_train /= 255\n",
        "# x_test /= 255\n"
      ],
      "execution_count": 0,
      "outputs": []
    },
    {
      "metadata": {
        "id": "h1Y0_HtksaGs",
        "colab_type": "text"
      },
      "cell_type": "markdown",
      "source": [
        "# Model Training"
      ]
    },
    {
      "metadata": {
        "id": "tveywuT6Wccd",
        "colab_type": "code",
        "outputId": "741d1caa-d5f8-44e9-e2f7-3e74554e9d11",
        "colab": {
          "base_uri": "https://localhost:8080/",
          "height": 407
        }
      },
      "cell_type": "code",
      "source": [
        "\n",
        "if not data_augmentation:\n",
        "    print('Not using data augmentation.')\n",
        "    model.fit(x_train, y_train,\n",
        "              batch_size=batch_size,\n",
        "              epochs=epochs,\n",
        "              validation_data=(x_test, y_test),\n",
        "              shuffle=True)\n",
        "else:\n",
        "    print('Using real-time data augmentation.')\n",
        "    # This will do preprocessing and realtime data augmentation:\n",
        "    datagen = ImageDataGenerator(\n",
        "        featurewise_center=False,  # set input mean to 0 over the dataset\n",
        "        samplewise_center=False,  # set each sample mean to 0\n",
        "        featurewise_std_normalization=False,  # divide inputs by std of the dataset\n",
        "        samplewise_std_normalization=False,  # divide each input by its std\n",
        "        zca_whitening=False,  # apply ZCA whitening\n",
        "        zca_epsilon=1e-06,  # epsilon for ZCA whitening\n",
        "        rotation_range=0,  # randomly rotate images in the range (degrees, 0 to 180)\n",
        "        # randomly shift images horizontally (fraction of total width)\n",
        "        width_shift_range=0.1,\n",
        "        # randomly shift images vertically (fraction of total height)\n",
        "        height_shift_range=0.1,\n",
        "        shear_range=0.,  # set range for random shear\n",
        "        zoom_range=0.,  # set range for random zoom\n",
        "        channel_shift_range=0.,  # set range for random channel shifts\n",
        "        # set mode for filling points outside the input boundaries\n",
        "        fill_mode='nearest',\n",
        "        cval=0.,  # value used for fill_mode = \"constant\"\n",
        "        horizontal_flip=True,  # randomly flip images\n",
        "        vertical_flip=False,  # randomly flip images\n",
        "        # set rescaling factor (applied before any other transformation)\n",
        "        rescale=None,\n",
        "        # set function that will be applied on each input\n",
        "        preprocessing_function=None,\n",
        "        # image data format, either \"channels_first\" or \"channels_last\"\n",
        "        data_format=None,\n",
        "        # fraction of images reserved for validation (strictly between 0 and 1)\n",
        "        validation_split=0.0)\n",
        "\n",
        "    # Compute quantities required for feature-wise normalization\n",
        "    # (std, mean, and principal components if ZCA whitening is applied).\n",
        "    datagen.fit(x_train)\n",
        "\n",
        "    # Fit the model on the batches generated by datagen.flow().\n",
        "    model.fit_generator(datagen.flow(x_train, y_train,\n",
        "                                     batch_size=batch_size),\n",
        "                        epochs=epochs,\n",
        "                        validation_data=(x_test, y_test),\n",
        "                        workers=4)\n",
        "\n",
        "\n"
      ],
      "execution_count": 0,
      "outputs": [
        {
          "output_type": "stream",
          "text": [
            "[  0   2   4   6   8  10  12  14  16  18  20  22  24  26  28  30  32  34\n",
            "  36  38  40  42  44  46  48  50  52  54  56  58  60  62  64  66  68  70\n",
            "  72  74  76  78  80  82  84  86  88  90  92  94  96  98 100 102 104 106\n",
            " 108 110 112 114 116 118 120 122 124 126 128 130 132 134 136 138 140 142\n",
            " 144 146 148 150 152 154 156 158 160 162 164 166 168 170 172 174 176 178\n",
            " 180 182 184 186 188 190 192 194 196 198 200 202 204 206 208 210 212 214\n",
            " 216 218 220 222 224 226 228 230 232 234 236 238 240 242 244 246 248 250\n",
            " 252 254]\n",
            "(10000, 32, 32, 3)\n",
            "Not using data augmentation.\n"
          ],
          "name": "stdout"
        },
        {
          "output_type": "error",
          "ename": "NameError",
          "evalue": "ignored",
          "traceback": [
            "\u001b[0;31m---------------------------------------------------------------------------\u001b[0m",
            "\u001b[0;31mNameError\u001b[0m                                 Traceback (most recent call last)",
            "\u001b[0;32m<ipython-input-12-1fe2ffbb1cc9>\u001b[0m in \u001b[0;36m<module>\u001b[0;34m()\u001b[0m\n\u001b[1;32m     16\u001b[0m \u001b[0;32mif\u001b[0m \u001b[0;32mnot\u001b[0m \u001b[0mdata_augmentation\u001b[0m\u001b[0;34m:\u001b[0m\u001b[0;34m\u001b[0m\u001b[0;34m\u001b[0m\u001b[0m\n\u001b[1;32m     17\u001b[0m     \u001b[0mprint\u001b[0m\u001b[0;34m(\u001b[0m\u001b[0;34m'Not using data augmentation.'\u001b[0m\u001b[0;34m)\u001b[0m\u001b[0;34m\u001b[0m\u001b[0;34m\u001b[0m\u001b[0m\n\u001b[0;32m---> 18\u001b[0;31m     model.fit(x_train, y_train,\n\u001b[0m\u001b[1;32m     19\u001b[0m               \u001b[0mbatch_size\u001b[0m\u001b[0;34m=\u001b[0m\u001b[0mbatch_size\u001b[0m\u001b[0;34m,\u001b[0m\u001b[0;34m\u001b[0m\u001b[0;34m\u001b[0m\u001b[0m\n\u001b[1;32m     20\u001b[0m               \u001b[0mepochs\u001b[0m\u001b[0;34m=\u001b[0m\u001b[0mepochs\u001b[0m\u001b[0;34m,\u001b[0m\u001b[0;34m\u001b[0m\u001b[0;34m\u001b[0m\u001b[0m\n",
            "\u001b[0;31mNameError\u001b[0m: name 'model' is not defined"
          ]
        }
      ]
    },
    {
      "metadata": {
        "id": "mmIt73MVWgqm",
        "colab_type": "code",
        "colab": {}
      },
      "cell_type": "code",
      "source": [
        "# Save model and weights\n",
        "if not os.path.isdir(save_dir):\n",
        "    os.makedirs(save_dir)\n",
        "model_path = os.path.join(save_dir, model_name)\n",
        "model.save(model_path)\n",
        "print('Saved trained model at %s ' % model_path)"
      ],
      "execution_count": 0,
      "outputs": []
    },
    {
      "metadata": {
        "id": "_A-Ae4_d-Uds",
        "colab_type": "text"
      },
      "cell_type": "markdown",
      "source": [
        "# Evaluation"
      ]
    },
    {
      "metadata": {
        "id": "QQc8MG6Rh1vT",
        "colab_type": "text"
      },
      "cell_type": "markdown",
      "source": [
        "First, we will upload the trained model\n"
      ]
    },
    {
      "metadata": {
        "id": "jnMUVifILNqN",
        "colab_type": "code",
        "colab": {}
      },
      "cell_type": "code",
      "source": [
        "classifier = tf.keras.models.load_model(\"keras_cifar10_trained_model_nonsliced.h5\")"
      ],
      "execution_count": 0,
      "outputs": []
    },
    {
      "metadata": {
        "id": "fZfsvHTu-EiQ",
        "colab_type": "text"
      },
      "cell_type": "markdown",
      "source": [
        "## Evaluation without Bit Plane Slicing"
      ]
    },
    {
      "metadata": {
        "id": "x7JxRU0R-ZUE",
        "colab_type": "text"
      },
      "cell_type": "markdown",
      "source": [
        "### Evaluation with Clean Examples\n"
      ]
    },
    {
      "metadata": {
        "id": "bGT6GlAi-x8m",
        "colab_type": "code",
        "outputId": "b6c7fb77-ee0c-494c-e18c-fc628df07128",
        "colab": {
          "base_uri": "https://localhost:8080/",
          "height": 52
        }
      },
      "cell_type": "code",
      "source": [
        "(x_train, y_train), (x_test, y_test) = cifar10.load_data() #Import data just in case to maintain consistency \n",
        "\n",
        "x_test = x_test/255 # normalize the data \n",
        "\n",
        "y_test = keras.utils.to_categorical(y_test, num_classes)\n",
        "\n",
        "acc = classifier.evaluate(x_test, y_test)\n",
        "\n",
        "print (\"Accuracy: \", acc[1])"
      ],
      "execution_count": 0,
      "outputs": [
        {
          "output_type": "stream",
          "text": [
            "10000/10000 [==============================] - 2s 171us/sample - loss: 0.7024 - acc: 0.7745\n",
            "Accuracy:  0.7745\n"
          ],
          "name": "stdout"
        }
      ]
    },
    {
      "metadata": {
        "id": "LXX--XqP-dPs",
        "colab_type": "text"
      },
      "cell_type": "markdown",
      "source": [
        "### Evaluation with Carlini Wagner Attack "
      ]
    },
    {
      "metadata": {
        "id": "PosyLf2H_OuJ",
        "colab_type": "code",
        "outputId": "b167522f-fa1f-4d72-ef89-44788bfef22c",
        "colab": {
          "base_uri": "https://localhost:8080/",
          "height": 52
        }
      },
      "cell_type": "code",
      "source": [
        "x_test = np.load('attack_images_np_CW_LR_07.npy') # load the Carlini Wagner Adversarial Examples \n",
        "\n",
        "acc = classifier.evaluate(x_test, y_test)\n",
        "\n",
        "print (\"Accuracy: \", acc[1])\n"
      ],
      "execution_count": 0,
      "outputs": [
        {
          "output_type": "stream",
          "text": [
            "10000/10000 [==============================] - 2s 158us/sample - loss: 2.2181 - acc: 0.1171\n",
            "Accuracy:  0.1171\n"
          ],
          "name": "stdout"
        }
      ]
    },
    {
      "metadata": {
        "id": "wd_GINLF-mHr",
        "colab_type": "text"
      },
      "cell_type": "markdown",
      "source": [
        "### Evaluation with FGSM Attacks\n"
      ]
    },
    {
      "metadata": {
        "id": "pwMiX91_-z_-",
        "colab_type": "text"
      },
      "cell_type": "markdown",
      "source": [
        "#### Epsilon = 0.005\n"
      ]
    },
    {
      "metadata": {
        "id": "WAB4o8M3_Red",
        "colab_type": "code",
        "outputId": "9739d808-32c8-4fba-933e-49b65d2fdaa8",
        "colab": {
          "base_uri": "https://localhost:8080/",
          "height": 52
        }
      },
      "cell_type": "code",
      "source": [
        "x_test = np.load('attack_images_np_FGSM_eps_005.npy') # load the FGSM eps = 0.005 Adversarial Examples \n",
        "\n",
        "acc = classifier.evaluate(x_test, y_test)\n",
        "\n",
        "print (\"Accuracy: \", acc[1])"
      ],
      "execution_count": 0,
      "outputs": [
        {
          "output_type": "stream",
          "text": [
            "10000/10000 [==============================] - 2s 178us/sample - loss: 1.3928 - acc: 0.5390\n",
            "Accuracy:  0.539\n"
          ],
          "name": "stdout"
        }
      ]
    },
    {
      "metadata": {
        "id": "SCIczYA1-7G2",
        "colab_type": "text"
      },
      "cell_type": "markdown",
      "source": [
        "#### Epsilon = 0.009"
      ]
    },
    {
      "metadata": {
        "id": "prrovWmp_SK7",
        "colab_type": "code",
        "outputId": "0529d78a-de1a-4a41-b567-9c93dd489387",
        "colab": {
          "base_uri": "https://localhost:8080/",
          "height": 52
        }
      },
      "cell_type": "code",
      "source": [
        "x_test = np.load('attack_images_np_FGSM_eps_009.npy') # load the FGSM eps = 0.009 Adversarial Examples \n",
        "\n",
        "acc = classifier.evaluate(x_test, y_test)\n",
        "\n",
        "print (\"Accuracy: \", acc[1])"
      ],
      "execution_count": 0,
      "outputs": [
        {
          "output_type": "stream",
          "text": [
            "10000/10000 [==============================] - 2s 151us/sample - loss: 1.9325 - acc: 0.3957\n",
            "Accuracy:  0.3957\n"
          ],
          "name": "stdout"
        }
      ]
    },
    {
      "metadata": {
        "id": "7rRqrz4O_BVB",
        "colab_type": "text"
      },
      "cell_type": "markdown",
      "source": [
        "#### Epsilon = 0.02\n"
      ]
    },
    {
      "metadata": {
        "id": "xgPovK3p_S7w",
        "colab_type": "code",
        "outputId": "900c62ba-1b7c-4f34-b122-6d5871d7eccb",
        "colab": {
          "base_uri": "https://localhost:8080/",
          "height": 52
        }
      },
      "cell_type": "code",
      "source": [
        "x_test = np.load('attack_images_np_FGSM_eps_02.npy') # load the FGSM eps = 0.02 Adversarial Examples \n",
        "\n",
        "acc = classifier.evaluate(x_test, y_test)\n",
        "\n",
        "print (\"Accuracy: \", acc[1])"
      ],
      "execution_count": 0,
      "outputs": [
        {
          "output_type": "stream",
          "text": [
            "10000/10000 [==============================] - 2s 153us/sample - loss: 2.6435 - acc: 0.2339\n",
            "Accuracy:  0.2339\n"
          ],
          "name": "stdout"
        }
      ]
    },
    {
      "metadata": {
        "id": "NdTnT6mf_HHs",
        "colab_type": "text"
      },
      "cell_type": "markdown",
      "source": [
        "#### Epsilon = 0.04"
      ]
    },
    {
      "metadata": {
        "id": "Vjy04UHl_Ts_",
        "colab_type": "code",
        "outputId": "c5f1d4f0-d5e0-41fb-a5d8-1162e709f240",
        "colab": {
          "base_uri": "https://localhost:8080/",
          "height": 52
        }
      },
      "cell_type": "code",
      "source": [
        "x_test = np.load('attack_images_np_FGSM_eps_04.npy') # load the FGSM eps = 0.04 Adversarial Examples \n",
        "\n",
        "acc = classifier.evaluate(x_test, y_test)\n",
        "\n",
        "print (\"Accuracy: \", acc[1])"
      ],
      "execution_count": 0,
      "outputs": [
        {
          "output_type": "stream",
          "text": [
            "10000/10000 [==============================] - 2s 155us/sample - loss: 2.8548 - acc: 0.1665\n",
            "Accuracy:  0.1665\n"
          ],
          "name": "stdout"
        }
      ]
    },
    {
      "metadata": {
        "id": "eTE5gSMU_KxH",
        "colab_type": "text"
      },
      "cell_type": "markdown",
      "source": [
        "#### Epsilon = 0.07"
      ]
    },
    {
      "metadata": {
        "id": "Ag3VD7JW_UYR",
        "colab_type": "code",
        "outputId": "d8ebf2f2-82fd-40c1-9b7e-c1517c109287",
        "colab": {
          "base_uri": "https://localhost:8080/",
          "height": 52
        }
      },
      "cell_type": "code",
      "source": [
        "x_test = np.load('attack_images_np_FGSM_eps_07.npy') # load the FGSM eps = 0.07 Adversarial Examples \n",
        "\n",
        "acc = classifier.evaluate(x_test, y_test)\n",
        "\n",
        "print (\"Accuracy: \", acc[1])"
      ],
      "execution_count": 0,
      "outputs": [
        {
          "output_type": "stream",
          "text": [
            "10000/10000 [==============================] - 2s 153us/sample - loss: 2.5770 - acc: 0.1392\n",
            "Accuracy:  0.1392\n"
          ],
          "name": "stdout"
        }
      ]
    },
    {
      "metadata": {
        "id": "09vmdjb3h4kn",
        "colab_type": "text"
      },
      "cell_type": "markdown",
      "source": [
        "## Evaluation with Bit Plane Slicing\n"
      ]
    },
    {
      "metadata": {
        "id": "IpAElMbdpCbn",
        "colab_type": "text"
      },
      "cell_type": "markdown",
      "source": [
        "### Evaluation with Clean Examples"
      ]
    },
    {
      "metadata": {
        "id": "_FKYI59WpGex",
        "colab_type": "code",
        "outputId": "bd52c2b2-cc51-4e79-ca33-487b9533b49a",
        "colab": {
          "base_uri": "https://localhost:8080/",
          "height": 1071
        }
      },
      "cell_type": "code",
      "source": [
        "(x_train, y_train), (x_test, y_test) = cifar10.load_data() #Import data just in case to maintain consistency \n",
        "\n",
        "y_test = keras.utils.to_categorical(y_test, num_classes)\n",
        "\n",
        "clean_accs = []\n",
        "for i in range(0, 9):\n",
        "  print (\"Testing with \", i, \" bits\")\n",
        "  x_test_slice = x_test\n",
        "  x_test_slice = x_test.astype('int')\n",
        "  x_test_slice = slice(x_test, i)\n",
        "  x_test_slice = x_test_slice.astype('float32')\n",
        "  x_test_slice /= 255\n",
        "  acc = classifier.evaluate(x_test_slice, y_test)\n",
        "  clean_accs.append(acc[1])"
      ],
      "execution_count": 0,
      "outputs": [
        {
          "output_type": "stream",
          "text": [
            "Testing with  0  bits\n",
            "[  0   1   2   3   4   5   6   7   8   9  10  11  12  13  14  15  16  17\n",
            "  18  19  20  21  22  23  24  25  26  27  28  29  30  31  32  33  34  35\n",
            "  36  37  38  39  40  41  42  43  44  45  46  47  48  49  50  51  52  53\n",
            "  54  55  56  57  58  59  60  61  62  63  64  65  66  67  68  69  70  71\n",
            "  72  73  74  75  76  77  78  79  80  81  82  83  84  85  86  87  88  89\n",
            "  90  91  92  93  94  95  96  97  98  99 100 101 102 103 104 105 106 107\n",
            " 108 109 110 111 112 113 114 115 116 117 118 119 120 121 122 123 124 125\n",
            " 126 127 128 129 130 131 132 133 134 135 136 137 138 139 140 141 142 143\n",
            " 144 145 146 147 148 149 150 151 152 153 154 155 156 157 158 159 160 161\n",
            " 162 163 164 165 166 167 168 169 170 171 172 173 174 175 176 177 178 179\n",
            " 180 181 182 183 184 185 186 187 188 189 190 191 192 193 194 195 196 197\n",
            " 198 199 200 201 202 203 204 205 206 207 208 209 210 211 212 213 214 215\n",
            " 216 217 218 219 220 221 222 223 224 225 226 227 228 229 230 231 232 233\n",
            " 234 235 236 237 238 239 240 241 242 243 244 245 246 247 248 249 250 251\n",
            " 252 253 254 255]\n",
            "(10000, 32, 32, 3)\n",
            "10000/10000 [==============================] - 2s 158us/sample - loss: 0.7024 - acc: 0.7745\n",
            "Testing with  1  bits\n",
            "[  0   2   4   6   8  10  12  14  16  18  20  22  24  26  28  30  32  34\n",
            "  36  38  40  42  44  46  48  50  52  54  56  58  60  62  64  66  68  70\n",
            "  72  74  76  78  80  82  84  86  88  90  92  94  96  98 100 102 104 106\n",
            " 108 110 112 114 116 118 120 122 124 126 128 130 132 134 136 138 140 142\n",
            " 144 146 148 150 152 154 156 158 160 162 164 166 168 170 172 174 176 178\n",
            " 180 182 184 186 188 190 192 194 196 198 200 202 204 206 208 210 212 214\n",
            " 216 218 220 222 224 226 228 230 232 234 236 238 240 242 244 246 248 250\n",
            " 252 254]\n",
            "(10000, 32, 32, 3)\n",
            "10000/10000 [==============================] - 2s 156us/sample - loss: 0.7033 - acc: 0.7758\n",
            "Testing with  2  bits\n",
            "[  0   4   8  12  16  20  24  28  32  36  40  44  48  52  56  60  64  68\n",
            "  72  76  80  84  88  92  96 100 104 108 112 116 120 124 128 132 136 140\n",
            " 144 148 152 156 160 164 168 172 176 180 184 188 192 196 200 204 208 212\n",
            " 216 220 224 228 232 236 240 244 248 252]\n",
            "(10000, 32, 32, 3)\n",
            "10000/10000 [==============================] - 2s 156us/sample - loss: 0.7064 - acc: 0.7734\n",
            "Testing with  3  bits\n",
            "[  0   8  16  24  32  40  48  56  64  72  80  88  96 104 112 120 128 136\n",
            " 144 152 160 168 176 184 192 200 208 216 224 232 240 248]\n",
            "(10000, 32, 32, 3)\n",
            "10000/10000 [==============================] - 2s 156us/sample - loss: 0.7175 - acc: 0.7736\n",
            "Testing with  4  bits\n",
            "[  0  16  32  48  64  80  96 112 128 144 160 176 192 208 224 240]\n",
            "(10000, 32, 32, 3)\n",
            "10000/10000 [==============================] - 2s 156us/sample - loss: 0.7616 - acc: 0.7602\n",
            "Testing with  5  bits\n",
            "[  0  32  64  96 128 160 192 224]\n",
            "(10000, 32, 32, 3)\n",
            "10000/10000 [==============================] - 2s 158us/sample - loss: 0.9266 - acc: 0.7034\n",
            "Testing with  6  bits\n",
            "[  0  64 128 192]\n",
            "(10000, 32, 32, 3)\n",
            "10000/10000 [==============================] - 2s 158us/sample - loss: 1.2936 - acc: 0.5714\n",
            "Testing with  7  bits\n",
            "[  0 128]\n",
            "(10000, 32, 32, 3)\n",
            "10000/10000 [==============================] - 2s 176us/sample - loss: 2.0236 - acc: 0.3772\n",
            "Testing with  8  bits\n",
            "[0]\n",
            "(10000, 32, 32, 3)\n",
            "10000/10000 [==============================] - 2s 179us/sample - loss: 2.3320 - acc: 0.1000\n"
          ],
          "name": "stdout"
        }
      ]
    },
    {
      "metadata": {
        "id": "-1lKWNaEpHal",
        "colab_type": "code",
        "outputId": "31877a05-20bc-4e52-d8d6-437b852ea690",
        "colab": {
          "base_uri": "https://localhost:8080/",
          "height": 376
        }
      },
      "cell_type": "code",
      "source": [
        "x = [0,1,2,3,4,5,6,7,8]\n",
        "accs_copy = clean_accs\n",
        "x_adv = [0.7745]*9\n",
        "import matplotlib.pyplot as plt\n",
        "plt.plot(accs_copy)\n",
        "plt.plot(x_adv, 'r--')\n",
        "plt.ylabel('Accuracy')\n",
        "plt.xlabel('Number of Bits sliced in Image')\n",
        "plt.title('Number of Bits sliced in Image vs. Accuracy of Model with Clean (Unperturbed) Examples')\n",
        "plt.xlim(0, 8)\n",
        "plt.show()"
      ],
      "execution_count": 0,
      "outputs": [
        {
          "output_type": "display_data",
          "data": {
            "image/png": "[encoded data removed]",
            "text/plain": [
              "<Figure size 576x396 with 1 Axes>"
            ]
          },
          "metadata": {
            "tags": []
          }
        }
      ]
    },
    {
      "metadata": {
        "id": "oo_y70MciA3Y",
        "colab_type": "text"
      },
      "cell_type": "markdown",
      "source": [
        "##  CW Attack Evaluation with Slicing Defense\n"
      ]
    },
    {
      "metadata": {
        "id": "7emhpsYDiHMq",
        "colab_type": "text"
      },
      "cell_type": "markdown",
      "source": [
        "### Learning Rate: 0.07"
      ]
    },
    {
      "metadata": {
        "id": "SyHq2ZGrMOZ9",
        "colab_type": "code",
        "outputId": "ce36e6d9-b6f7-440e-d517-36dc00d1cf27",
        "colab": {
          "base_uri": "https://localhost:8080/",
          "height": 1071
        }
      },
      "cell_type": "code",
      "source": [
        "CW_LR_07_accs = []\n",
        "for i in range(0, 9):\n",
        "  print (\"Testing with \", i, \" bits\")\n",
        "  x_test = np.load('attack_images_np_CW_LR_07.npy')\n",
        "  x_test *= 255\n",
        "  x_test = x_test.astype('int')\n",
        "  x_test = slice(x_test, i)\n",
        "  x_test = x_test.astype('float32')\n",
        "  x_test /= 255\n",
        "  acc = classifier.evaluate(x_test, y_test)\n",
        "  CW_LR_07_accs.append(acc[1])\n"
      ],
      "execution_count": 0,
      "outputs": [
        {
          "output_type": "stream",
          "text": [
            "Testing with  0  bits\n",
            "[  0   1   2   3   4   5   6   7   8   9  10  11  12  13  14  15  16  17\n",
            "  18  19  20  21  22  23  24  25  26  27  28  29  30  31  32  33  34  35\n",
            "  36  37  38  39  40  41  42  43  44  45  46  47  48  49  50  51  52  53\n",
            "  54  55  56  57  58  59  60  61  62  63  64  65  66  67  68  69  70  71\n",
            "  72  73  74  75  76  77  78  79  80  81  82  83  84  85  86  87  88  89\n",
            "  90  91  92  93  94  95  96  97  98  99 100 101 102 103 104 105 106 107\n",
            " 108 109 110 111 112 113 114 115 116 117 118 119 120 121 122 123 124 125\n",
            " 126 127 128 129 130 131 132 133 134 135 136 137 138 139 140 141 142 143\n",
            " 144 145 146 147 148 149 150 151 152 153 154 155 156 157 158 159 160 161\n",
            " 162 163 164 165 166 167 168 169 170 171 172 173 174 175 176 177 178 179\n",
            " 180 181 182 183 184 185 186 187 188 189 190 191 192 193 194 195 196 197\n",
            " 198 199 200 201 202 203 204 205 206 207 208 209 210 211 212 213 214 215\n",
            " 216 217 218 219 220 221 222 223 224 225 226 227 228 229 230 231 232 233\n",
            " 234 235 236 237 238 239 240 241 242 243 244 245 246 247 248 249 250 251\n",
            " 252 253 254]\n",
            "(10000, 32, 32, 3)\n",
            "10000/10000 [==============================] - 2s 156us/sample - loss: 2.2195 - acc: 0.1428\n",
            "Testing with  1  bits\n",
            "[  0   2   4   6   8  10  12  14  16  18  20  22  24  26  28  30  32  34\n",
            "  36  38  40  42  44  46  48  50  52  54  56  58  60  62  64  66  68  70\n",
            "  72  74  76  78  80  82  84  86  88  90  92  94  96  98 100 102 104 106\n",
            " 108 110 112 114 116 118 120 122 124 126 128 130 132 134 136 138 140 142\n",
            " 144 146 148 150 152 154 156 158 160 162 164 166 168 170 172 174 176 178\n",
            " 180 182 184 186 188 190 192 194 196 198 200 202 204 206 208 210 212 214\n",
            " 216 218 220 222 224 226 228 230 232 234 236 238 240 242 244 246 248 250\n",
            " 252 254]\n",
            "(10000, 32, 32, 3)\n",
            "10000/10000 [==============================] - 2s 159us/sample - loss: 2.2180 - acc: 0.1542\n",
            "Testing with  2  bits\n",
            "[  0   4   8  12  16  20  24  28  32  36  40  44  48  52  56  60  64  68\n",
            "  72  76  80  84  88  92  96 100 104 108 112 116 120 124 128 132 136 140\n",
            " 144 148 152 156 160 164 168 172 176 180 184 188 192 196 200 204 208 212\n",
            " 216 220 224 228 232 236 240 244 248 252]\n",
            "(10000, 32, 32, 3)\n",
            "10000/10000 [==============================] - 2s 156us/sample - loss: 2.2071 - acc: 0.1832\n",
            "Testing with  3  bits\n",
            "[  0   8  16  24  32  40  48  56  64  72  80  88  96 104 112 120 128 136\n",
            " 144 152 160 168 176 184 192 200 208 216 224 232 240 248]\n",
            "(10000, 32, 32, 3)\n",
            "10000/10000 [==============================] - 2s 157us/sample - loss: 2.1644 - acc: 0.2234\n",
            "Testing with  4  bits\n",
            "[  0  16  32  48  64  80  96 112 128 144 160 176 192 208 224 240]\n",
            "(10000, 32, 32, 3)\n",
            "10000/10000 [==============================] - 2s 158us/sample - loss: 2.0463 - acc: 0.2745\n",
            "Testing with  5  bits\n",
            "[  0  32  64  96 128 160 192 224]\n",
            "(10000, 32, 32, 3)\n",
            "10000/10000 [==============================] - 2s 159us/sample - loss: 1.8392 - acc: 0.3354\n",
            "Testing with  6  bits\n",
            "[  0  64 128 192]\n",
            "(10000, 32, 32, 3)\n",
            "10000/10000 [==============================] - 2s 154us/sample - loss: 1.7408 - acc: 0.3770\n",
            "Testing with  7  bits\n",
            "[  0 128]\n",
            "(10000, 32, 32, 3)\n",
            "10000/10000 [==============================] - 2s 158us/sample - loss: 2.1404 - acc: 0.3233\n",
            "Testing with  8  bits\n",
            "[0]\n",
            "(10000, 32, 32, 3)\n",
            "10000/10000 [==============================] - 2s 156us/sample - loss: 2.3320 - acc: 0.1000\n"
          ],
          "name": "stdout"
        }
      ]
    },
    {
      "metadata": {
        "id": "IpZlxNmDc__Y",
        "colab_type": "code",
        "outputId": "bf80d592-bd6e-4abc-9c64-1c17dbbb86b2",
        "colab": {
          "base_uri": "https://localhost:8080/",
          "height": 376
        }
      },
      "cell_type": "code",
      "source": [
        "x = [0,1,2,3,4,5,6,7,8]\n",
        "accs_copy = CW_LR_07_accs\n",
        "x_adv = [0.1171]*9\n",
        "import matplotlib.pyplot as plt\n",
        "plt.plot(accs_copy)\n",
        "plt.plot(x_adv, 'r--')\n",
        "plt.ylabel('Accuracy')\n",
        "plt.xlabel('Number of Bits sliced in Image')\n",
        "plt.title('Number of Bits sliced in Image vs. Accuracy of Model with CarliniWagnerL2 Adversarial Examples')\n",
        "plt.xlim(0, 8)\n",
        "plt.show()\n"
      ],
      "execution_count": 0,
      "outputs": [
        {
          "output_type": "display_data",
          "data": {
            "image/png": "[encoded data removed]",
            "text/plain": [
              "<Figure size 576x396 with 1 Axes>"
            ]
          },
          "metadata": {
            "tags": []
          }
        }
      ]
    },
    {
      "metadata": {
        "id": "UcvQONVSl6eN",
        "colab_type": "text"
      },
      "cell_type": "markdown",
      "source": [
        "## FGSM Attack Evaluation Using Slicing Defense\n",
        "\n"
      ]
    },
    {
      "metadata": {
        "id": "r_ADmGfKmb9D",
        "colab_type": "text"
      },
      "cell_type": "markdown",
      "source": [
        "### Epsilon 0.005\n"
      ]
    },
    {
      "metadata": {
        "id": "BF7x89Wvml4i",
        "colab_type": "code",
        "outputId": "64684770-240b-4187-dcbb-f7d13bfa65a5",
        "colab": {
          "base_uri": "https://localhost:8080/",
          "height": 1071
        }
      },
      "cell_type": "code",
      "source": [
        "FGSM_005_accs = []\n",
        "for i in range(0, 9):\n",
        "  print (\"Testing with \", i, \" bits\")\n",
        "  x_test = np.load('attack_images_np_FGSM_eps_005.npy')\n",
        "  x_test *= 255\n",
        "  x_test = x_test.astype('int')\n",
        "  x_test = slice(x_test, i)\n",
        "  x_test = x_test.astype('float32')\n",
        "  x_test /= 255\n",
        "  acc = classifier.evaluate(x_test, y_test)\n",
        "  FGSM_005_accs.append(acc[1])"
      ],
      "execution_count": 0,
      "outputs": [
        {
          "output_type": "stream",
          "text": [
            "Testing with  0  bits\n",
            "[  0   1   2   3   4   5   6   7   8   9  10  11  12  13  14  15  16  17\n",
            "  18  19  20  21  22  23  24  25  26  27  28  29  30  31  32  33  34  35\n",
            "  36  37  38  39  40  41  42  43  44  45  46  47  48  49  50  51  52  53\n",
            "  54  55  56  57  58  59  60  61  62  63  64  65  66  67  68  69  70  71\n",
            "  72  73  74  75  76  77  78  79  80  81  82  83  84  85  86  87  88  89\n",
            "  90  91  92  93  94  95  96  97  98  99 100 101 102 103 104 105 106 107\n",
            " 108 109 110 111 112 113 114 115 116 117 118 119 120 121 122 123 124 125\n",
            " 126 127 128 129 130 131 132 133 134 135 136 137 138 139 140 141 142 143\n",
            " 144 145 146 147 148 149 150 151 152 153 154 155 156 157 158 159 160 161\n",
            " 162 163 164 165 166 167 168 169 170 171 172 173 174 175 176 177 178 179\n",
            " 180 181 182 183 184 185 186 187 188 189 190 191 192 193 194 195 196 197\n",
            " 198 199 200 201 202 203 204 205 206 207 208 209 210 211 212 213 214 215\n",
            " 216 217 218 219 220 221 222 223 224 225 226 227 228 229 230 231 232 233\n",
            " 234 235 236 237 238 239 240 241 242 243 244 245 246 247 248 249 250 251\n",
            " 252 253 254 255]\n",
            "(10000, 32, 32, 3)\n",
            "10000/10000 [==============================] - 2s 153us/sample - loss: 1.5288 - acc: 0.5002\n",
            "Testing with  1  bits\n",
            "[  0   2   4   6   8  10  12  14  16  18  20  22  24  26  28  30  32  34\n",
            "  36  38  40  42  44  46  48  50  52  54  56  58  60  62  64  66  68  70\n",
            "  72  74  76  78  80  82  84  86  88  90  92  94  96  98 100 102 104 106\n",
            " 108 110 112 114 116 118 120 122 124 126 128 130 132 134 136 138 140 142\n",
            " 144 146 148 150 152 154 156 158 160 162 164 166 168 170 172 174 176 178\n",
            " 180 182 184 186 188 190 192 194 196 198 200 202 204 206 208 210 212 214\n",
            " 216 218 220 222 224 226 228 230 232 234 236 238 240 242 244 246 248 250\n",
            " 252 254]\n",
            "(10000, 32, 32, 3)\n",
            "10000/10000 [==============================] - 2s 158us/sample - loss: 1.5230 - acc: 0.5020\n",
            "Testing with  2  bits\n",
            "[  0   4   8  12  16  20  24  28  32  36  40  44  48  52  56  60  64  68\n",
            "  72  76  80  84  88  92  96 100 104 108 112 116 120 124 128 132 136 140\n",
            " 144 148 152 156 160 164 168 172 176 180 184 188 192 196 200 204 208 212\n",
            " 216 220 224 228 232 236 240 244 248 252]\n",
            "(10000, 32, 32, 3)\n",
            "10000/10000 [==============================] - 2s 156us/sample - loss: 1.5003 - acc: 0.5071\n",
            "Testing with  3  bits\n",
            "[  0   8  16  24  32  40  48  56  64  72  80  88  96 104 112 120 128 136\n",
            " 144 152 160 168 176 184 192 200 208 216 224 232 240 248]\n",
            "(10000, 32, 32, 3)\n",
            "10000/10000 [==============================] - 2s 151us/sample - loss: 1.4363 - acc: 0.5232\n",
            "Testing with  4  bits\n",
            "[  0  16  32  48  64  80  96 112 128 144 160 176 192 208 224 240]\n",
            "(10000, 32, 32, 3)\n",
            "10000/10000 [==============================] - 2s 155us/sample - loss: 1.3188 - acc: 0.5529\n",
            "Testing with  5  bits\n",
            "[  0  32  64  96 128 160 192 224]\n",
            "(10000, 32, 32, 3)\n",
            "10000/10000 [==============================] - 2s 152us/sample - loss: 1.2610 - acc: 0.5690\n",
            "Testing with  6  bits\n",
            "[  0  64 128 192]\n",
            "(10000, 32, 32, 3)\n",
            "10000/10000 [==============================] - 2s 168us/sample - loss: 1.4457 - acc: 0.5048\n",
            "Testing with  7  bits\n",
            "[  0 128]\n",
            "(10000, 32, 32, 3)\n",
            "10000/10000 [==============================] - 2s 172us/sample - loss: 2.0732 - acc: 0.3573\n",
            "Testing with  8  bits\n",
            "[0]\n",
            "(10000, 32, 32, 3)\n",
            "10000/10000 [==============================] - 2s 160us/sample - loss: 2.3320 - acc: 0.1000\n"
          ],
          "name": "stdout"
        }
      ]
    },
    {
      "metadata": {
        "id": "AlJpdb9zmne6",
        "colab_type": "code",
        "outputId": "32a3f63b-f015-46db-a3ab-4da73b1d6437",
        "colab": {
          "base_uri": "https://localhost:8080/",
          "height": 235
        }
      },
      "cell_type": "code",
      "source": [
        "x = [0,1,2,3,4,5,6,7,8]\n",
        "accs_copy = FGSM_005_accs\n",
        "# accs_copy = accs_copy\n",
        "x_adv = [0.539]*9\n",
        "# accs_copy = x\n",
        "# accs_copy = x+accs_copy\n",
        "import matplotlib.pyplot as plt\n",
        "plt.plot(accs_copy)\n",
        "plt.plot(x_adv, 'r--')\n",
        "plt.ylabel('Accuracy')\n",
        "plt.xlabel('Number of Bits sliced in Image')\n",
        "plt.title('Number of Bits sliced in Image vs. Accuracy of Model with FGSM (Epsilon = 0.005) Adversarial Examples')\n",
        "plt.xlim(0, 8)\n",
        "plt.show()"
      ],
      "execution_count": 0,
      "outputs": [
        {
          "output_type": "error",
          "ename": "NameError",
          "evalue": "ignored",
          "traceback": [
            "\u001b[0;31m---------------------------------------------------------------------------\u001b[0m",
            "\u001b[0;31mNameError\u001b[0m                                 Traceback (most recent call last)",
            "\u001b[0;32m<ipython-input-1-0adb5230d484>\u001b[0m in \u001b[0;36m<module>\u001b[0;34m()\u001b[0m\n\u001b[1;32m      1\u001b[0m \u001b[0mx\u001b[0m \u001b[0;34m=\u001b[0m \u001b[0;34m[\u001b[0m\u001b[0;36m0\u001b[0m\u001b[0;34m,\u001b[0m\u001b[0;36m1\u001b[0m\u001b[0;34m,\u001b[0m\u001b[0;36m2\u001b[0m\u001b[0;34m,\u001b[0m\u001b[0;36m3\u001b[0m\u001b[0;34m,\u001b[0m\u001b[0;36m4\u001b[0m\u001b[0;34m,\u001b[0m\u001b[0;36m5\u001b[0m\u001b[0;34m,\u001b[0m\u001b[0;36m6\u001b[0m\u001b[0;34m,\u001b[0m\u001b[0;36m7\u001b[0m\u001b[0;34m,\u001b[0m\u001b[0;36m8\u001b[0m\u001b[0;34m]\u001b[0m\u001b[0;34m\u001b[0m\u001b[0;34m\u001b[0m\u001b[0m\n\u001b[0;32m----> 2\u001b[0;31m \u001b[0maccs_copy\u001b[0m \u001b[0;34m=\u001b[0m \u001b[0mFGSM_005_accs\u001b[0m\u001b[0;34m\u001b[0m\u001b[0;34m\u001b[0m\u001b[0m\n\u001b[0m\u001b[1;32m      3\u001b[0m \u001b[0;31m# accs_copy = accs_copy\u001b[0m\u001b[0;34m\u001b[0m\u001b[0;34m\u001b[0m\u001b[0;34m\u001b[0m\u001b[0m\n\u001b[1;32m      4\u001b[0m \u001b[0mx_adv\u001b[0m \u001b[0;34m=\u001b[0m \u001b[0;34m[\u001b[0m\u001b[0;36m0.539\u001b[0m\u001b[0;34m]\u001b[0m\u001b[0;34m*\u001b[0m\u001b[0;36m9\u001b[0m\u001b[0;34m\u001b[0m\u001b[0;34m\u001b[0m\u001b[0m\n\u001b[1;32m      5\u001b[0m \u001b[0;31m# accs_copy = x\u001b[0m\u001b[0;34m\u001b[0m\u001b[0;34m\u001b[0m\u001b[0;34m\u001b[0m\u001b[0m\n",
            "\u001b[0;31mNameError\u001b[0m: name 'FGSM_005_accs' is not defined"
          ]
        }
      ]
    },
    {
      "metadata": {
        "id": "ULhHqcPSmCVg",
        "colab_type": "text"
      },
      "cell_type": "markdown",
      "source": [
        "### Epsilon 0.009\n"
      ]
    },
    {
      "metadata": {
        "id": "EvrorNOEmrjI",
        "colab_type": "code",
        "outputId": "ef81058a-2c9a-4cac-bed5-34ebad06602f",
        "colab": {
          "base_uri": "https://localhost:8080/",
          "height": 1071
        }
      },
      "cell_type": "code",
      "source": [
        "FGSM_009_accs = []\n",
        "for i in range(0, 9):\n",
        "  print (\"Testing with \", i, \" bits\")\n",
        "  x_test = np.load('attack_images_np_FGSM_eps_009.npy')\n",
        "  x_test *= 255\n",
        "  x_test = x_test.astype('int')\n",
        "  x_test = slice(x_test, i)\n",
        "  x_test = x_test.astype('float32')\n",
        "  x_test /= 255\n",
        "  acc = classifier.evaluate(x_test, y_test)\n",
        "  FGSM_009_accs.append(acc[1])"
      ],
      "execution_count": 0,
      "outputs": [
        {
          "output_type": "stream",
          "text": [
            "Testing with  0  bits\n",
            "[  0   1   2   3   4   5   6   7   8   9  10  11  12  13  14  15  16  17\n",
            "  18  19  20  21  22  23  24  25  26  27  28  29  30  31  32  33  34  35\n",
            "  36  37  38  39  40  41  42  43  44  45  46  47  48  49  50  51  52  53\n",
            "  54  55  56  57  58  59  60  61  62  63  64  65  66  67  68  69  70  71\n",
            "  72  73  74  75  76  77  78  79  80  81  82  83  84  85  86  87  88  89\n",
            "  90  91  92  93  94  95  96  97  98  99 100 101 102 103 104 105 106 107\n",
            " 108 109 110 111 112 113 114 115 116 117 118 119 120 121 122 123 124 125\n",
            " 126 127 128 129 130 131 132 133 134 135 136 137 138 139 140 141 142 143\n",
            " 144 145 146 147 148 149 150 151 152 153 154 155 156 157 158 159 160 161\n",
            " 162 163 164 165 166 167 168 169 170 171 172 173 174 175 176 177 178 179\n",
            " 180 181 182 183 184 185 186 187 188 189 190 191 192 193 194 195 196 197\n",
            " 198 199 200 201 202 203 204 205 206 207 208 209 210 211 212 213 214 215\n",
            " 216 217 218 219 220 221 222 223 224 225 226 227 228 229 230 231 232 233\n",
            " 234 235 236 237 238 239 240 241 242 243 244 245 246 247 248 249 250 251\n",
            " 252 253 254 255]\n",
            "(10000, 32, 32, 3)\n",
            "10000/10000 [==============================] - 2s 163us/sample - loss: 2.0185 - acc: 0.3765\n",
            "Testing with  1  bits\n",
            "[  0   2   4   6   8  10  12  14  16  18  20  22  24  26  28  30  32  34\n",
            "  36  38  40  42  44  46  48  50  52  54  56  58  60  62  64  66  68  70\n",
            "  72  74  76  78  80  82  84  86  88  90  92  94  96  98 100 102 104 106\n",
            " 108 110 112 114 116 118 120 122 124 126 128 130 132 134 136 138 140 142\n",
            " 144 146 148 150 152 154 156 158 160 162 164 166 168 170 172 174 176 178\n",
            " 180 182 184 186 188 190 192 194 196 198 200 202 204 206 208 210 212 214\n",
            " 216 218 220 222 224 226 228 230 232 234 236 238 240 242 244 246 248 250\n",
            " 252 254]\n",
            "(10000, 32, 32, 3)\n",
            "10000/10000 [==============================] - 2s 158us/sample - loss: 2.0116 - acc: 0.3766\n",
            "Testing with  2  bits\n",
            "[  0   4   8  12  16  20  24  28  32  36  40  44  48  52  56  60  64  68\n",
            "  72  76  80  84  88  92  96 100 104 108 112 116 120 124 128 132 136 140\n",
            " 144 148 152 156 160 164 168 172 176 180 184 188 192 196 200 204 208 212\n",
            " 216 220 224 228 232 236 240 244 248 252]\n",
            "(10000, 32, 32, 3)\n",
            "10000/10000 [==============================] - 2s 157us/sample - loss: 1.9884 - acc: 0.3814\n",
            "Testing with  3  bits\n",
            "[  0   8  16  24  32  40  48  56  64  72  80  88  96 104 112 120 128 136\n",
            " 144 152 160 168 176 184 192 200 208 216 224 232 240 248]\n",
            "(10000, 32, 32, 3)\n",
            "10000/10000 [==============================] - 2s 154us/sample - loss: 1.9163 - acc: 0.3950\n",
            "Testing with  4  bits\n",
            "[  0  16  32  48  64  80  96 112 128 144 160 176 192 208 224 240]\n",
            "(10000, 32, 32, 3)\n",
            "10000/10000 [==============================] - 2s 153us/sample - loss: 1.7385 - acc: 0.4237\n",
            "Testing with  5  bits\n",
            "[  0  32  64  96 128 160 192 224]\n",
            "(10000, 32, 32, 3)\n",
            "10000/10000 [==============================] - 2s 152us/sample - loss: 1.5193 - acc: 0.4721\n",
            "Testing with  6  bits\n",
            "[  0  64 128 192]\n",
            "(10000, 32, 32, 3)\n",
            "10000/10000 [==============================] - 2s 156us/sample - loss: 1.5483 - acc: 0.4611\n",
            "Testing with  7  bits\n",
            "[  0 128]\n",
            "(10000, 32, 32, 3)\n",
            "10000/10000 [==============================] - 2s 154us/sample - loss: 2.0983 - acc: 0.3450\n",
            "Testing with  8  bits\n",
            "[0]\n",
            "(10000, 32, 32, 3)\n",
            "10000/10000 [==============================] - 2s 157us/sample - loss: 2.3320 - acc: 0.1000\n"
          ],
          "name": "stdout"
        }
      ]
    },
    {
      "metadata": {
        "id": "G_DDKKybmsOP",
        "colab_type": "code",
        "outputId": "a0a02257-f714-4dc3-b6bd-55978a78c2c5",
        "colab": {
          "base_uri": "https://localhost:8080/",
          "height": 376
        }
      },
      "cell_type": "code",
      "source": [
        "x = [0,1,2,3,4,5,6,7,8]\n",
        "accs_copy = FGSM_009_accs\n",
        "x_adv = [0.397]*9\n",
        "\n",
        "import matplotlib.pyplot as plt\n",
        "plt.plot(accs_copy)\n",
        "plt.plot(x_adv, 'r--')\n",
        "plt.ylabel('Accuracy')\n",
        "plt.xlabel('Number of Bits sliced in Image')\n",
        "plt.title('Number of Bits sliced in Image vs. Accuracy of Model with FGSM (Epsilon = 0.009) Adversarial Examples')\n",
        "plt.xlim(0, 8)\n",
        "plt.show()"
      ],
      "execution_count": 0,
      "outputs": [
        {
          "output_type": "display_data",
          "data": {
            "image/png": "[encoded data removed]",
            "text/plain": [
              "<Figure size 576x396 with 1 Axes>"
            ]
          },
          "metadata": {
            "tags": []
          }
        }
      ]
    },
    {
      "metadata": {
        "id": "aCiLlQXymQ5y",
        "colab_type": "text"
      },
      "cell_type": "markdown",
      "source": [
        "### Epsilon 0.02\n"
      ]
    },
    {
      "metadata": {
        "id": "ondXmR0Mms1i",
        "colab_type": "code",
        "outputId": "f2547316-8021-4bef-f8e5-b8c868d72986",
        "colab": {
          "base_uri": "https://localhost:8080/",
          "height": 1071
        }
      },
      "cell_type": "code",
      "source": [
        "FGSM_02_accs = []\n",
        "for i in range(0, 9):\n",
        "  print (\"Testing with \", i, \" bits\")\n",
        "  x_test = np.load('attack_images_np_FGSM_eps_02.npy')\n",
        "  x_test *= 255\n",
        "  x_test = x_test.astype('int')\n",
        "  x_test = slice(x_test, i)\n",
        "  x_test = x_test.astype('float32')\n",
        "  x_test /= 255\n",
        "  acc = classifier.evaluate(x_test, y_test)\n",
        "  FGSM_02_accs.append(acc[1])"
      ],
      "execution_count": 0,
      "outputs": [
        {
          "output_type": "stream",
          "text": [
            "Testing with  0  bits\n",
            "[  0   1   2   3   4   5   6   7   8   9  10  11  12  13  14  15  16  17\n",
            "  18  19  20  21  22  23  24  25  26  27  28  29  30  31  32  33  34  35\n",
            "  36  37  38  39  40  41  42  43  44  45  46  47  48  49  50  51  52  53\n",
            "  54  55  56  57  58  59  60  61  62  63  64  65  66  67  68  69  70  71\n",
            "  72  73  74  75  76  77  78  79  80  81  82  83  84  85  86  87  88  89\n",
            "  90  91  92  93  94  95  96  97  98  99 100 101 102 103 104 105 106 107\n",
            " 108 109 110 111 112 113 114 115 116 117 118 119 120 121 122 123 124 125\n",
            " 126 127 128 129 130 131 132 133 134 135 136 137 138 139 140 141 142 143\n",
            " 144 145 146 147 148 149 150 151 152 153 154 155 156 157 158 159 160 161\n",
            " 162 163 164 165 166 167 168 169 170 171 172 173 174 175 176 177 178 179\n",
            " 180 181 182 183 184 185 186 187 188 189 190 191 192 193 194 195 196 197\n",
            " 198 199 200 201 202 203 204 205 206 207 208 209 210 211 212 213 214 215\n",
            " 216 217 218 219 220 221 222 223 224 225 226 227 228 229 230 231 232 233\n",
            " 234 235 236 237 238 239 240 241 242 243 244 245 246 247 248 249 250 251\n",
            " 252 253 254 255]\n",
            "(10000, 32, 32, 3)\n",
            "10000/10000 [==============================] - 2s 156us/sample - loss: 2.6926 - acc: 0.2231\n",
            "Testing with  1  bits\n",
            "[  0   2   4   6   8  10  12  14  16  18  20  22  24  26  28  30  32  34\n",
            "  36  38  40  42  44  46  48  50  52  54  56  58  60  62  64  66  68  70\n",
            "  72  74  76  78  80  82  84  86  88  90  92  94  96  98 100 102 104 106\n",
            " 108 110 112 114 116 118 120 122 124 126 128 130 132 134 136 138 140 142\n",
            " 144 146 148 150 152 154 156 158 160 162 164 166 168 170 172 174 176 178\n",
            " 180 182 184 186 188 190 192 194 196 198 200 202 204 206 208 210 212 214\n",
            " 216 218 220 222 224 226 228 230 232 234 236 238 240 242 244 246 248 250\n",
            " 252 254]\n",
            "(10000, 32, 32, 3)\n",
            "10000/10000 [==============================] - 2s 158us/sample - loss: 2.6889 - acc: 0.2239\n",
            "Testing with  2  bits\n",
            "[  0   4   8  12  16  20  24  28  32  36  40  44  48  52  56  60  64  68\n",
            "  72  76  80  84  88  92  96 100 104 108 112 116 120 124 128 132 136 140\n",
            " 144 148 152 156 160 164 168 172 176 180 184 188 192 196 200 204 208 212\n",
            " 216 220 224 228 232 236 240 244 248 252]\n",
            "(10000, 32, 32, 3)\n",
            "10000/10000 [==============================] - 2s 157us/sample - loss: 2.6740 - acc: 0.2258\n",
            "Testing with  3  bits\n",
            "[  0   8  16  24  32  40  48  56  64  72  80  88  96 104 112 120 128 136\n",
            " 144 152 160 168 176 184 192 200 208 216 224 232 240 248]\n",
            "(10000, 32, 32, 3)\n",
            "10000/10000 [==============================] - 2s 160us/sample - loss: 2.6192 - acc: 0.2297\n",
            "Testing with  4  bits\n",
            "[  0  16  32  48  64  80  96 112 128 144 160 176 192 208 224 240]\n",
            "(10000, 32, 32, 3)\n",
            "10000/10000 [==============================] - 2s 159us/sample - loss: 2.4495 - acc: 0.2452\n",
            "Testing with  5  bits\n",
            "[  0  32  64  96 128 160 192 224]\n",
            "(10000, 32, 32, 3)\n",
            "10000/10000 [==============================] - 2s 160us/sample - loss: 2.0969 - acc: 0.2876\n",
            "Testing with  6  bits\n",
            "[  0  64 128 192]\n",
            "(10000, 32, 32, 3)\n",
            "10000/10000 [==============================] - 2s 158us/sample - loss: 1.8330 - acc: 0.3413\n",
            "Testing with  7  bits\n",
            "[  0 128]\n",
            "(10000, 32, 32, 3)\n",
            "10000/10000 [==============================] - 2s 157us/sample - loss: 2.1768 - acc: 0.3008\n",
            "Testing with  8  bits\n",
            "[0]\n",
            "(10000, 32, 32, 3)\n",
            "10000/10000 [==============================] - 2s 160us/sample - loss: 2.3320 - acc: 0.1000\n"
          ],
          "name": "stdout"
        }
      ]
    },
    {
      "metadata": {
        "id": "I0sX9bV7mtE8",
        "colab_type": "code",
        "outputId": "58b24db1-2110-4409-bc78-043769ae66b8",
        "colab": {
          "base_uri": "https://localhost:8080/",
          "height": 376
        }
      },
      "cell_type": "code",
      "source": [
        "x = [0,1,2,3,4,5,6,7,8]\n",
        "accs_copy = FGSM_02_accs\n",
        "x_adv = [0.2339]*9\n",
        "\n",
        "\n",
        "import matplotlib.pyplot as plt\n",
        "plt.plot(accs_copy)\n",
        "plt.plot(x_adv, 'r--')\n",
        "plt.ylabel('Accuracy')\n",
        "plt.xlabel('Number of Bits sliced in Image')\n",
        "plt.title('Number of Bits sliced in Image vs. Accuracy of Model with FGSM (Epsilon = 0.02) Adversarial Examples')\n",
        "plt.xlim(0, 8)\n",
        "plt.show()"
      ],
      "execution_count": 0,
      "outputs": [
        {
          "output_type": "display_data",
          "data": {
            "image/png": "[encoded data removed]",
            "text/plain": [
              "<Figure size 576x396 with 1 Axes>"
            ]
          },
          "metadata": {
            "tags": []
          }
        }
      ]
    },
    {
      "metadata": {
        "id": "jGuIOROmmVNH",
        "colab_type": "text"
      },
      "cell_type": "markdown",
      "source": [
        "### Epsilon 0.04"
      ]
    },
    {
      "metadata": {
        "id": "wb7A7ISZmuBA",
        "colab_type": "code",
        "outputId": "aef3ecc3-3caf-4439-eca6-1ab098f8f6bb",
        "colab": {
          "base_uri": "https://localhost:8080/",
          "height": 1071
        }
      },
      "cell_type": "code",
      "source": [
        "FGSM_04_accs = []\n",
        "for i in range(0, 9):\n",
        "  print (\"Testing with \", i, \" bits\")\n",
        "  x_test = np.load('attack_images_np_FGSM_eps_04.npy')\n",
        "  x_test *= 255\n",
        "  x_test = x_test.astype('int')\n",
        "  x_test = slice(x_test, i)\n",
        "  x_test = x_test.astype('float32')\n",
        "  x_test /= 255\n",
        "  acc = classifier.evaluate(x_test, y_test)\n",
        "  FGSM_04_accs.append(acc[1])"
      ],
      "execution_count": 0,
      "outputs": [
        {
          "output_type": "stream",
          "text": [
            "Testing with  0  bits\n",
            "[  0   1   2   3   4   5   6   7   8   9  10  11  12  13  14  15  16  17\n",
            "  18  19  20  21  22  23  24  25  26  27  28  29  30  31  32  33  34  35\n",
            "  36  37  38  39  40  41  42  43  44  45  46  47  48  49  50  51  52  53\n",
            "  54  55  56  57  58  59  60  61  62  63  64  65  66  67  68  69  70  71\n",
            "  72  73  74  75  76  77  78  79  80  81  82  83  84  85  86  87  88  89\n",
            "  90  91  92  93  94  95  96  97  98  99 100 101 102 103 104 105 106 107\n",
            " 108 109 110 111 112 113 114 115 116 117 118 119 120 121 122 123 124 125\n",
            " 126 127 128 129 130 131 132 133 134 135 136 137 138 139 140 141 142 143\n",
            " 144 145 146 147 148 149 150 151 152 153 154 155 156 157 158 159 160 161\n",
            " 162 163 164 165 166 167 168 169 170 171 172 173 174 175 176 177 178 179\n",
            " 180 181 182 183 184 185 186 187 188 189 190 191 192 193 194 195 196 197\n",
            " 198 199 200 201 202 203 204 205 206 207 208 209 210 211 212 213 214 215\n",
            " 216 217 218 219 220 221 222 223 224 225 226 227 228 229 230 231 232 233\n",
            " 234 235 236 237 238 239 240 241 242 243 244 245 246 247 248 249 250 251\n",
            " 252 253 254 255]\n",
            "(10000, 32, 32, 3)\n",
            "10000/10000 [==============================] - 2s 174us/sample - loss: 2.8501 - acc: 0.1643\n",
            "Testing with  1  bits\n",
            "[  0   2   4   6   8  10  12  14  16  18  20  22  24  26  28  30  32  34\n",
            "  36  38  40  42  44  46  48  50  52  54  56  58  60  62  64  66  68  70\n",
            "  72  74  76  78  80  82  84  86  88  90  92  94  96  98 100 102 104 106\n",
            " 108 110 112 114 116 118 120 122 124 126 128 130 132 134 136 138 140 142\n",
            " 144 146 148 150 152 154 156 158 160 162 164 166 168 170 172 174 176 178\n",
            " 180 182 184 186 188 190 192 194 196 198 200 202 204 206 208 210 212 214\n",
            " 216 218 220 222 224 226 228 230 232 234 236 238 240 242 244 246 248 250\n",
            " 252 254]\n",
            "(10000, 32, 32, 3)\n",
            "10000/10000 [==============================] - 2s 185us/sample - loss: 2.8479 - acc: 0.1646\n",
            "Testing with  2  bits\n",
            "[  0   4   8  12  16  20  24  28  32  36  40  44  48  52  56  60  64  68\n",
            "  72  76  80  84  88  92  96 100 104 108 112 116 120 124 128 132 136 140\n",
            " 144 148 152 156 160 164 168 172 176 180 184 188 192 196 200 204 208 212\n",
            " 216 220 224 228 232 236 240 244 248 252]\n",
            "(10000, 32, 32, 3)\n",
            "10000/10000 [==============================] - 2s 181us/sample - loss: 2.8408 - acc: 0.1655\n",
            "Testing with  3  bits\n",
            "[  0   8  16  24  32  40  48  56  64  72  80  88  96 104 112 120 128 136\n",
            " 144 152 160 168 176 184 192 200 208 216 224 232 240 248]\n",
            "(10000, 32, 32, 3)\n",
            "10000/10000 [==============================] - 2s 187us/sample - loss: 2.8155 - acc: 0.1658\n",
            "Testing with  4  bits\n",
            "[  0  16  32  48  64  80  96 112 128 144 160 176 192 208 224 240]\n",
            "(10000, 32, 32, 3)\n",
            "10000/10000 [==============================] - 2s 179us/sample - loss: 2.7203 - acc: 0.1719\n",
            "Testing with  5  bits\n",
            "[  0  32  64  96 128 160 192 224]\n",
            "(10000, 32, 32, 3)\n",
            "10000/10000 [==============================] - 2s 186us/sample - loss: 2.4584 - acc: 0.1866\n",
            "Testing with  6  bits\n",
            "[  0  64 128 192]\n",
            "(10000, 32, 32, 3)\n",
            "10000/10000 [==============================] - 2s 179us/sample - loss: 2.1285 - acc: 0.2323\n",
            "Testing with  7  bits\n",
            "[  0 128]\n",
            "(10000, 32, 32, 3)\n",
            "10000/10000 [==============================] - 2s 187us/sample - loss: 2.2714 - acc: 0.2615\n",
            "Testing with  8  bits\n",
            "[0]\n",
            "(10000, 32, 32, 3)\n",
            "10000/10000 [==============================] - 2s 183us/sample - loss: 2.3320 - acc: 0.1000\n"
          ],
          "name": "stdout"
        }
      ]
    },
    {
      "metadata": {
        "id": "eggAgAgMmuZZ",
        "colab_type": "code",
        "outputId": "0c8a59e3-6a9f-4d47-d13d-d25eeeb1b88a",
        "colab": {
          "base_uri": "https://localhost:8080/",
          "height": 376
        }
      },
      "cell_type": "code",
      "source": [
        "x = [0,1,2,3,4,5,6,7,8]\n",
        "accs_copy = FGSM_04_accs\n",
        "x_adv = [0.1665]*9\n",
        "\n",
        "\n",
        "import matplotlib.pyplot as plt\n",
        "plt.plot(accs_copy)\n",
        "plt.plot(x_adv, 'r--')\n",
        "plt.ylabel('Accuracy')\n",
        "plt.xlabel('Number of Bits sliced in Image')\n",
        "plt.title('Number of Bits sliced in Image vs. Accuracy of Model with FGSM (Epsilon = 0.04) Adversarial Examples')\n",
        "plt.xlim(0, 8)\n",
        "plt.show()"
      ],
      "execution_count": 0,
      "outputs": [
        {
          "output_type": "display_data",
          "data": {
            "image/png": "[encoded data removed]",
            "text/plain": [
              "<Figure size 576x396 with 1 Axes>"
            ]
          },
          "metadata": {
            "tags": []
          }
        }
      ]
    },
    {
      "metadata": {
        "id": "8GD07YW-mZdQ",
        "colab_type": "text"
      },
      "cell_type": "markdown",
      "source": [
        "### Epsilon 0.07"
      ]
    },
    {
      "metadata": {
        "id": "djLn2BdemwtE",
        "colab_type": "code",
        "outputId": "affe2afb-c866-4a81-e672-ba4e90085d3c",
        "colab": {
          "base_uri": "https://localhost:8080/",
          "height": 1071
        }
      },
      "cell_type": "code",
      "source": [
        "FGSM_07_accs = []\n",
        "for i in range(0, 9):\n",
        "  print (\"Testing with \", i, \" bits\")\n",
        "  x_test = np.load('attack_images_np_FGSM_eps_07.npy')\n",
        "  x_test *= 255\n",
        "  x_test = x_test.astype('int')\n",
        "  x_test = slice(x_test, i)\n",
        "  x_test = x_test.astype('float32')\n",
        "  x_test /= 255\n",
        "  acc = classifier.evaluate(x_test, y_test)\n",
        "  FGSM_07_accs.append(acc[1])"
      ],
      "execution_count": 0,
      "outputs": [
        {
          "output_type": "stream",
          "text": [
            "Testing with  0  bits\n",
            "[  0   1   2   3   4   5   6   7   8   9  10  11  12  13  14  15  16  17\n",
            "  18  19  20  21  22  23  24  25  26  27  28  29  30  31  32  33  34  35\n",
            "  36  37  38  39  40  41  42  43  44  45  46  47  48  49  50  51  52  53\n",
            "  54  55  56  57  58  59  60  61  62  63  64  65  66  67  68  69  70  71\n",
            "  72  73  74  75  76  77  78  79  80  81  82  83  84  85  86  87  88  89\n",
            "  90  91  92  93  94  95  96  97  98  99 100 101 102 103 104 105 106 107\n",
            " 108 109 110 111 112 113 114 115 116 117 118 119 120 121 122 123 124 125\n",
            " 126 127 128 129 130 131 132 133 134 135 136 137 138 139 140 141 142 143\n",
            " 144 145 146 147 148 149 150 151 152 153 154 155 156 157 158 159 160 161\n",
            " 162 163 164 165 166 167 168 169 170 171 172 173 174 175 176 177 178 179\n",
            " 180 181 182 183 184 185 186 187 188 189 190 191 192 193 194 195 196 197\n",
            " 198 199 200 201 202 203 204 205 206 207 208 209 210 211 212 213 214 215\n",
            " 216 217 218 219 220 221 222 223 224 225 226 227 228 229 230 231 232 233\n",
            " 234 235 236 237 238 239 240 241 242 243 244 245 246 247 248 249 250 251\n",
            " 252 253 254 255]\n",
            "(10000, 32, 32, 3)\n",
            "10000/10000 [==============================] - 2s 161us/sample - loss: 2.5894 - acc: 0.1391\n",
            "Testing with  1  bits\n",
            "[  0   2   4   6   8  10  12  14  16  18  20  22  24  26  28  30  32  34\n",
            "  36  38  40  42  44  46  48  50  52  54  56  58  60  62  64  66  68  70\n",
            "  72  74  76  78  80  82  84  86  88  90  92  94  96  98 100 102 104 106\n",
            " 108 110 112 114 116 118 120 122 124 126 128 130 132 134 136 138 140 142\n",
            " 144 146 148 150 152 154 156 158 160 162 164 166 168 170 172 174 176 178\n",
            " 180 182 184 186 188 190 192 194 196 198 200 202 204 206 208 210 212 214\n",
            " 216 218 220 222 224 226 228 230 232 234 236 238 240 242 244 246 248 250\n",
            " 252 254]\n",
            "(10000, 32, 32, 3)\n",
            "10000/10000 [==============================] - 2s 162us/sample - loss: 2.5898 - acc: 0.1402\n",
            "Testing with  2  bits\n",
            "[  0   4   8  12  16  20  24  28  32  36  40  44  48  52  56  60  64  68\n",
            "  72  76  80  84  88  92  96 100 104 108 112 116 120 124 128 132 136 140\n",
            " 144 148 152 156 160 164 168 172 176 180 184 188 192 196 200 204 208 212\n",
            " 216 220 224 228 232 236 240 244 248 252]\n",
            "(10000, 32, 32, 3)\n",
            "10000/10000 [==============================] - 2s 161us/sample - loss: 2.5898 - acc: 0.1391\n",
            "Testing with  3  bits\n",
            "[  0   8  16  24  32  40  48  56  64  72  80  88  96 104 112 120 128 136\n",
            " 144 152 160 168 176 184 192 200 208 216 224 232 240 248]\n",
            "(10000, 32, 32, 3)\n",
            "10000/10000 [==============================] - 2s 160us/sample - loss: 2.5858 - acc: 0.1391\n",
            "Testing with  4  bits\n",
            "[  0  16  32  48  64  80  96 112 128 144 160 176 192 208 224 240]\n",
            "(10000, 32, 32, 3)\n",
            "10000/10000 [==============================] - 2s 167us/sample - loss: 2.5628 - acc: 0.1418\n",
            "Testing with  5  bits\n",
            "[  0  32  64  96 128 160 192 224]\n",
            "(10000, 32, 32, 3)\n",
            "10000/10000 [==============================] - 2s 163us/sample - loss: 2.4713 - acc: 0.1499\n",
            "Testing with  6  bits\n",
            "[  0  64 128 192]\n",
            "(10000, 32, 32, 3)\n",
            "10000/10000 [==============================] - 2s 158us/sample - loss: 2.2870 - acc: 0.1786\n",
            "Testing with  7  bits\n",
            "[  0 128]\n",
            "(10000, 32, 32, 3)\n",
            "10000/10000 [==============================] - 2s 157us/sample - loss: 2.3465 - acc: 0.2154\n",
            "Testing with  8  bits\n",
            "[0]\n",
            "(10000, 32, 32, 3)\n",
            "10000/10000 [==============================] - 2s 154us/sample - loss: 2.3320 - acc: 0.1000\n"
          ],
          "name": "stdout"
        }
      ]
    },
    {
      "metadata": {
        "id": "oYR0TIZ3mxKP",
        "colab_type": "code",
        "outputId": "ccaf9271-3405-4c5f-d340-573facf1aff6",
        "colab": {
          "base_uri": "https://localhost:8080/",
          "height": 376
        }
      },
      "cell_type": "code",
      "source": [
        "x = [0,1,2,3,4,5,6,7,8]\n",
        "accs_copy = FGSM_07_accs\n",
        "x_adv = [0.1392]*9\n",
        "\n",
        "\n",
        "import matplotlib.pyplot as plt\n",
        "plt.plot(accs_copy)\n",
        "plt.plot(x_adv, 'r--')\n",
        "plt.ylabel('Accuracy')\n",
        "plt.xlabel('Number of Bits sliced in Image')\n",
        "plt.title('Number of Bits sliced in Image vs. Accuracy of Model with FGSM (Epsilon = 0.07) Adversarial Examples')\n",
        "plt.xlim(0, 8)\n",
        "plt.show()"
      ],
      "execution_count": 0,
      "outputs": [
        {
          "output_type": "display_data",
          "data": {
            "image/png": "[encoded data removed]",
            "text/plain": [
              "<Figure size 576x396 with 1 Axes>"
            ]
          },
          "metadata": {
            "tags": []
          }
        }
      ]
    },
    {
      "metadata": {
        "id": "dtOy3A7_L9pL",
        "colab_type": "text"
      },
      "cell_type": "markdown",
      "source": [
        "### Saving Model Accuracies for Different Attacks\n"
      ]
    },
    {
      "metadata": {
        "id": "jQ4qNA6oMCod",
        "colab_type": "code",
        "colab": {}
      },
      "cell_type": "code",
      "source": [
        "import pickle\n",
        "\n",
        "with open(\"Clean_Slice.pickle\", \"wb\") as fp:   #Pickling Clean Bit Mode Images Model Accuracies \n",
        "  pickle.dump(clean_accs, fp)\n",
        "  \n",
        "with open(\"CW_Slice.pickle\", \"wb\") as fp:   #Pickling CW Attack Bit Mode Images Model Accuracies\n",
        "  pickle.dump(CW_LR_07_accs, fp)\n",
        "  \n",
        "with open(\"FGSM_005_Slice.pickle\", \"wb\") as fp:   #Pickling FGSM 0.005 Attack Bit Mode Images Model Accuracies\n",
        "  pickle.dump(FGSM_005_accs, fp)\n",
        "\n",
        "with open(\"FGSM_009_Slice.pickle\", \"wb\") as fp:   #Pickling FGSM 0.009 Attack Bit Mode Images Model Accuracies\n",
        "  pickle.dump(FGSM_009_accs, fp)\n",
        "\n",
        "with open(\"FGSM_02_Slice.pickle\", \"wb\") as fp:   #Pickling FGSM 0.02 Attack Bit Mode Images Model Accuracies\n",
        "  pickle.dump(FGSM_02_accs, fp)\n",
        "  \n",
        "with open(\"FGSM_04_Slice.pickle\", \"wb\") as fp:   #Pickling FGSM 0.04 Attack Bit Mode Images Model Accuracies\n",
        "  pickle.dump(FGSM_04_accs, fp)\n",
        "  \n",
        "with open(\"FGSM_07_Slice.pickle\", \"wb\") as fp:   #Pickling FGSM 0.07 Attack Bit Mode Images Model Accuracies\n",
        "  pickle.dump(FGSM_07_accs, fp)"
      ],
      "execution_count": 0,
      "outputs": []
    }
  ]
}